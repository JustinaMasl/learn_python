{
 "cells": [
  {
   "cell_type": "markdown",
   "source": [
    "Try/ exept"
   ],
   "metadata": {}
  },
  {
   "cell_type": "code",
   "execution_count": 6,
   "source": [
    "\r\n",
    "try:\r\n",
    "    10/0\r\n",
    "except Exception as e: # exeption - jei ivyksta bet kokia klaida, ja pervadinam i e ir galim atsispausdint. geriau rasyt konkrecia klaida, kuriai ivykus norim vykdyti tolesnius veiksmus \r\n",
    "    print('division failed')\r\n",
    "    print(e)\r\n",
    "#finally:\r\n",
    "    #print(visada ivykdoma, net jei buvo klaida auksciau)\r\n",
    "print('after division')"
   ],
   "outputs": [
    {
     "output_type": "stream",
     "name": "stdout",
     "text": [
      "division failed\n",
      "division by zero\n",
      "after division\n"
     ]
    }
   ],
   "metadata": {}
  },
  {
   "cell_type": "code",
   "execution_count": 4,
   "source": [
    "input_var = [1, 2, 3]\r\n",
    "isinstance (input_var, str)"
   ],
   "outputs": [
    {
     "output_type": "execute_result",
     "data": {
      "text/plain": [
       "False"
      ]
     },
     "metadata": {},
     "execution_count": 4
    }
   ],
   "metadata": {}
  },
  {
   "cell_type": "code",
   "execution_count": 8,
   "source": [
    "iterator = iter([1, 3, 5])\r\n",
    "try:\r\n",
    "    print(next(iterator))\r\n",
    "    print(next(iterator))\r\n",
    "    print(next(iterator))\r\n",
    "    print(next(iterator))\r\n",
    "except StopIteration:\r\n",
    "    print('There are no more iterators')\r\n"
   ],
   "outputs": [
    {
     "output_type": "stream",
     "name": "stdout",
     "text": [
      "1\n",
      "3\n",
      "5\n",
      "There are no more iterators\n"
     ]
    }
   ],
   "metadata": {}
  },
  {
   "cell_type": "code",
   "execution_count": 10,
   "source": [
    "my_dict = {\r\n",
    "    'a':5,\r\n",
    "    'b':6\r\n",
    "    }\r\n",
    "try:\r\n",
    "    print(my_dict['c'])\r\n",
    "except KeyError:\r\n",
    "    my_dict['c'] = input('key \"c\" was not found. Enter the value of it')\r\n",
    "    print(my_dict['c'])\r\n"
   ],
   "outputs": [
    {
     "output_type": "stream",
     "name": "stdout",
     "text": [
      "\n"
     ]
    }
   ],
   "metadata": {}
  },
  {
   "cell_type": "code",
   "execution_count": 11,
   "source": [
    "def some_func(string_1):\r\n",
    "    if not isinstance(string_1, str):\r\n",
    "        raise ValueError('You gave wrong argument. It should be a string. Fix it.')"
   ],
   "outputs": [],
   "metadata": {}
  },
  {
   "cell_type": "code",
   "execution_count": 12,
   "source": [
    "some_func([1, 3])"
   ],
   "outputs": [
    {
     "output_type": "error",
     "ename": "ValueError",
     "evalue": "You gave wrong argument. It should be a string. Fix it.",
     "traceback": [
      "\u001b[1;31m---------------------------------------------------------------------------\u001b[0m",
      "\u001b[1;31mValueError\u001b[0m                                Traceback (most recent call last)",
      "\u001b[1;32m~\\AppData\\Local\\Temp/ipykernel_9008/957138227.py\u001b[0m in \u001b[0;36m<module>\u001b[1;34m\u001b[0m\n\u001b[1;32m----> 1\u001b[1;33m \u001b[0msome_func\u001b[0m\u001b[1;33m(\u001b[0m\u001b[1;33m[\u001b[0m\u001b[1;36m1\u001b[0m\u001b[1;33m,\u001b[0m \u001b[1;36m3\u001b[0m\u001b[1;33m]\u001b[0m\u001b[1;33m)\u001b[0m\u001b[1;33m\u001b[0m\u001b[1;33m\u001b[0m\u001b[0m\n\u001b[0m",
      "\u001b[1;32m~\\AppData\\Local\\Temp/ipykernel_9008/3658988193.py\u001b[0m in \u001b[0;36msome_func\u001b[1;34m(string_1)\u001b[0m\n\u001b[0;32m      1\u001b[0m \u001b[1;32mdef\u001b[0m \u001b[0msome_func\u001b[0m\u001b[1;33m(\u001b[0m\u001b[0mstring_1\u001b[0m\u001b[1;33m)\u001b[0m\u001b[1;33m:\u001b[0m\u001b[1;33m\u001b[0m\u001b[1;33m\u001b[0m\u001b[0m\n\u001b[0;32m      2\u001b[0m     \u001b[1;32mif\u001b[0m \u001b[1;32mnot\u001b[0m \u001b[0misinstance\u001b[0m\u001b[1;33m(\u001b[0m\u001b[0mstring_1\u001b[0m\u001b[1;33m,\u001b[0m \u001b[0mstr\u001b[0m\u001b[1;33m)\u001b[0m\u001b[1;33m:\u001b[0m\u001b[1;33m\u001b[0m\u001b[1;33m\u001b[0m\u001b[0m\n\u001b[1;32m----> 3\u001b[1;33m         \u001b[1;32mraise\u001b[0m \u001b[0mValueError\u001b[0m\u001b[1;33m(\u001b[0m\u001b[1;34m'You gave wrong argument. It should be a string. Fix it.'\u001b[0m\u001b[1;33m)\u001b[0m\u001b[1;33m\u001b[0m\u001b[1;33m\u001b[0m\u001b[0m\n\u001b[0m",
      "\u001b[1;31mValueError\u001b[0m: You gave wrong argument. It should be a string. Fix it."
     ]
    }
   ],
   "metadata": {}
  },
  {
   "cell_type": "markdown",
   "source": [
    "OS biblioteka"
   ],
   "metadata": {}
  },
  {
   "cell_type": "code",
   "execution_count": 14,
   "source": [
    "import os"
   ],
   "outputs": [],
   "metadata": {}
  },
  {
   "cell_type": "code",
   "execution_count": 15,
   "source": [
    "print(os.getcwd())\r\n",
    "start_dir = os.getcwd()"
   ],
   "outputs": [
    {
     "output_type": "stream",
     "name": "stdout",
     "text": [
      "c:\\Programavimo-kursai\\learn_python\n"
     ]
    }
   ],
   "metadata": {}
  },
  {
   "cell_type": "code",
   "execution_count": null,
   "source": [
    "#os.chdir() kai norim pakeisti dabartine darbo vieta\r\n",
    "# os.chdir('..\\\\..\\\\..\\\\Desktop') ..\\\\ reiskia grizima per viena folderi is dabartines buvimo vietos\r\n",
    "# os.listdir() atspausdina kas yra tam folderi, kurdabar esam, arba irsius visa kelia - kas yra pasirinktam "
   ],
   "outputs": [],
   "metadata": {}
  },
  {
   "cell_type": "code",
   "execution_count": null,
   "source": [
    "#os.mkdir('new_folder') sukuria tik 1 folderi. nekuria folderio folderyje\r\n",
    "#os.makedirs('new_folder\\\\1\\\\2\\\\3\\\\4') sukurs 4 folderius viena kitame\r\n",
    "# os.rmdir('new_folder\\\\1\\\\2\\\\3\\\\4') istrina tik pati paskutini tuscia folderi. Istrina galutinai, nekeliauja net i siuksliadeze\r\n",
    "# os.removedirs('new_folder\\\\1\\\\2') istrina visus nurodytus tuscius folderius. Jeigu folderi yra kas nors, jo netrins\r\n"
   ],
   "outputs": [],
   "metadata": {}
  },
  {
   "cell_type": "code",
   "execution_count": null,
   "source": [
    "# with open('kelias, 'r') as file_read:     with uztikrina, kad isejus is with dalies (neuzdejus tarpu) failas automatiskai uzdaromas\r\n",
    "   # text = file_read.read()\r\n",
    "   # print (tex)\r\n",
    "   # write rezima perraso visa faila\r\n",
    "   "
   ],
   "outputs": [],
   "metadata": {}
  },
  {
   "cell_type": "code",
   "execution_count": null,
   "source": [
    "import json  # programavime daznai naudojamas formatas\r\n",
    "\r\n",
    "#dictionary = {'vardas':'Darius', 'amzius':25}\r\n"
   ],
   "outputs": [],
   "metadata": {}
  }
 ],
 "metadata": {
  "orig_nbformat": 4,
  "language_info": {
   "name": "python",
   "version": "3.9.6",
   "mimetype": "text/x-python",
   "codemirror_mode": {
    "name": "ipython",
    "version": 3
   },
   "pygments_lexer": "ipython3",
   "nbconvert_exporter": "python",
   "file_extension": ".py"
  },
  "kernelspec": {
   "name": "python3",
   "display_name": "Python 3.9.6 64-bit"
  },
  "interpreter": {
   "hash": "1d0febc49e1fc15a3a396940b992e1b6cab9d0e3b3ca076f5f78bec92a9a951d"
  }
 },
 "nbformat": 4,
 "nbformat_minor": 2
}