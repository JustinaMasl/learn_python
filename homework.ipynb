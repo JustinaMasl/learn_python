{
 "cells": [
  {
   "cell_type": "markdown",
   "source": [
    "1 PASKAITA"
   ],
   "metadata": {}
  },
  {
   "cell_type": "code",
   "execution_count": 12,
   "source": [
    "my_name = 'Justina'\r\n",
    "my_surname = \"Maslinskaite\"\r\n",
    "# print(my_name + ' ' + my_surname)\r\n",
    "print(f'My name {my_name} and my surname is {my_surname}')\r\n",
    "print(f'{my_name} {my_surname}')"
   ],
   "outputs": [
    {
     "output_type": "stream",
     "name": "stdout",
     "text": [
      "My name Justina and my surname is Maslinskaite\n",
      "Justina Maslinskaite\n"
     ]
    }
   ],
   "metadata": {}
  },
  {
   "cell_type": "code",
   "execution_count": 3,
   "source": [
    "my_string = 'Python makes me really really happy!'\r\n",
    "print(my_string.upper())"
   ],
   "outputs": [
    {
     "output_type": "stream",
     "name": "stdout",
     "text": [
      "PYTHON MAKES ME REALLY REALLY HAPPY!\n"
     ]
    }
   ],
   "metadata": {}
  },
  {
   "cell_type": "code",
   "execution_count": 13,
   "source": [
    "my_word = my_string[0:6]\r\n",
    "print(my_word)\r\n",
    "print(my_word.replace('tho', 'ThO'))"
   ],
   "outputs": [
    {
     "output_type": "stream",
     "name": "stdout",
     "text": [
      "Python\n",
      "PyThOn\n"
     ]
    }
   ],
   "metadata": {}
  },
  {
   "cell_type": "code",
   "execution_count": 21,
   "source": [
    "sentence = 'Hello World, I am happy to learn Python!'\r\n",
    "print(sentence.find('happy'))\r\n",
    "print(sentence[18:24])\r\n",
    "print(sentence.index('happy'))\r\n",
    "print(len('happy'))\r\n",
    "print(len(sentence))\r\n",
    "print(sentence.find('to'))\r\n",
    "print(sentence[24:27])"
   ],
   "outputs": [
    {
     "output_type": "stream",
     "name": "stdout",
     "text": [
      "18\n",
      "happy \n",
      "18\n",
      "5\n",
      "40\n",
      "24\n",
      "to \n"
     ]
    }
   ],
   "metadata": {}
  },
  {
   "cell_type": "code",
   "execution_count": 29,
   "source": [
    "int1 = 19\r\n",
    "int2 = 7\r\n",
    "\r\n",
    "print(int1 + int2)\r\n",
    "print(int1 - int2)\r\n",
    "print(int1 * int2)\r\n",
    "print(int1 / int2)\r\n",
    "print(int1 % int2) # kodel 5?"
   ],
   "outputs": [
    {
     "output_type": "stream",
     "name": "stdout",
     "text": [
      "26\n",
      "12\n",
      "133\n",
      "2.7142857142857144\n",
      "5\n"
     ]
    }
   ],
   "metadata": {}
  },
  {
   "cell_type": "code",
   "execution_count": 30,
   "source": [
    "print (3 < 4)\r\n",
    "print ('u' in 'sun')\r\n",
    "print ('s' in 'JUSTINA'.lower ())\r\n",
    "print (True == 1)\r\n",
    "print (False == 0)\r\n",
    "bool ('a')"
   ],
   "outputs": [
    {
     "output_type": "stream",
     "name": "stdout",
     "text": [
      "True\n",
      "True\n",
      "True\n",
      "True\n",
      "True\n"
     ]
    },
    {
     "output_type": "execute_result",
     "data": {
      "text/plain": [
       "True"
      ]
     },
     "metadata": {},
     "execution_count": 30
    }
   ],
   "metadata": {}
  },
  {
   "cell_type": "code",
   "execution_count": 31,
   "source": [
    "print (3 > 4)\r\n",
    "print ('a' in 'sun')\r\n",
    "print ('s' in 'JUSTINA')\r\n",
    "print (True == 0)\r\n",
    "bool ('')"
   ],
   "outputs": [
    {
     "output_type": "stream",
     "name": "stdout",
     "text": [
      "False\n",
      "False\n",
      "False\n",
      "False\n"
     ]
    },
    {
     "output_type": "execute_result",
     "data": {
      "text/plain": [
       "False"
      ]
     },
     "metadata": {},
     "execution_count": 31
    }
   ],
   "metadata": {}
  },
  {
   "cell_type": "code",
   "execution_count": 73,
   "source": [
    "list1 = ['stalas', 'kede', 'sofa', 'lova', 'spinta']\r\n",
    "print(len(list1))\r\n",
    "list1.append('suolas')\r\n",
    "print(list1)\r\n",
    "'sofa' in list1\r\n",
    "\r\n",
    "list2 = [1, 1, 1, 2, 5, 9, 6, 3, 2, 2, 4]\r\n",
    "list3 = list1 + list2\r\n",
    "print(list3)\r\n",
    "list3.remove(list3[-1])\r\n",
    "print(list3)\r\n",
    "list3.pop(1)\r\n",
    "print(list3)\r\n",
    "print(list3.count(1))\r\n",
    "list2.sort()\r\n",
    "print(list2)\r\n"
   ],
   "outputs": [
    {
     "output_type": "stream",
     "name": "stdout",
     "text": [
      "5\n",
      "['stalas', 'kede', 'sofa', 'lova', 'spinta', 'suolas']\n",
      "['stalas', 'kede', 'sofa', 'lova', 'spinta', 'suolas', 1, 1, 1, 2, 5, 9, 6, 3, 2, 2, 4]\n",
      "['stalas', 'kede', 'sofa', 'lova', 'spinta', 'suolas', 1, 1, 1, 2, 5, 9, 6, 3, 2, 2]\n",
      "['stalas', 'sofa', 'lova', 'spinta', 'suolas', 1, 1, 1, 2, 5, 9, 6, 3, 2, 2]\n",
      "3\n",
      "[1, 1, 1, 2, 2, 2, 3, 4, 5, 6, 9]\n"
     ]
    }
   ],
   "metadata": {}
  },
  {
   "cell_type": "markdown",
   "source": [
    "3 PASKAITA"
   ],
   "metadata": {}
  },
  {
   "cell_type": "code",
   "execution_count": 37,
   "source": [
    "# Dictionary\r\n",
    "car = {'brand' : 'Ford',\r\n",
    "'model' : 'Mustang',\r\n",
    "'year' : '1964'\r\n",
    "}\r\n",
    "print(car['brand'])\r\n",
    "print(len(car))\r\n",
    "car['year'] = '2020'\r\n",
    "#car.update( {'year' : 2020})\r\n",
    "print(car)"
   ],
   "outputs": [
    {
     "output_type": "stream",
     "name": "stdout",
     "text": [
      "Ford\n",
      "3\n",
      "{'brand': 'Ford', 'model': 'Mustang', 'year': '2020'}\n"
     ]
    }
   ],
   "metadata": {}
  },
  {
   "cell_type": "code",
   "execution_count": 38,
   "source": [
    "car.update({'color' :'red', 'used' : True})\r\n",
    "print(car)"
   ],
   "outputs": [
    {
     "output_type": "stream",
     "name": "stdout",
     "text": [
      "{'brand': 'Ford', 'model': 'Mustang', 'year': '2020', 'color': 'red', 'used': True}\n"
     ]
    }
   ],
   "metadata": {}
  },
  {
   "cell_type": "code",
   "execution_count": 39,
   "source": [
    "car.pop('brand')\r\n",
    "print(car)\r\n"
   ],
   "outputs": [
    {
     "output_type": "stream",
     "name": "stdout",
     "text": [
      "{'model': 'Mustang', 'year': '2020', 'color': 'red', 'used': True}\n"
     ]
    }
   ],
   "metadata": {}
  },
  {
   "cell_type": "code",
   "execution_count": 40,
   "source": [
    "car['year'] = None\r\n",
    "print(car)"
   ],
   "outputs": [
    {
     "output_type": "stream",
     "name": "stdout",
     "text": [
      "{'model': 'Mustang', 'year': None, 'color': 'red', 'used': True}\n"
     ]
    }
   ],
   "metadata": {}
  },
  {
   "cell_type": "code",
   "execution_count": null,
   "source": [
    "sort"
   ],
   "outputs": [],
   "metadata": {}
  },
  {
   "cell_type": "code",
   "execution_count": 54,
   "source": [
    "# set\r\n",
    "fruits = {'apple', 'banana', 'cherry'}\r\n",
    "fruits.add(('nauja_reiksme', 5))\r\n",
    "print(fruits)\r\n",
    "# kodel surikiavo?\r\n",
    "fruits.remove('apple')\r\n",
    "fruits.remove(('nauja_reiksme', 5))\r\n",
    "fruits.add('watermelon')\r\n",
    "print(fruits)"
   ],
   "outputs": [
    {
     "output_type": "stream",
     "name": "stdout",
     "text": [
      "{'apple', 'cherry', ('nauja_reiksme', 5), 'banana'}\n",
      "{'cherry', 'banana', 'watermelon'}\n"
     ]
    }
   ],
   "metadata": {}
  },
  {
   "cell_type": "code",
   "execution_count": 62,
   "source": [
    "fruits = {'apple', 'banana', 'cherry'}\r\n",
    "fruits.add('watermelon')\r\n",
    "print(fruits)\r\n",
    "fruits.update({'orange', 'lemon', 'peach', 'kiwi', 'papaya'})\r\n",
    "print(fruits)\r\n",
    "fruits.remove('banana')\r\n",
    "print(fruits)\r\n",
    "fruits.discard('apple')\r\n",
    "print(fruits)\r\n",
    "print(len(fruits))\r\n",
    "fruits.add('kiwi')\r\n",
    "print(fruits)\r\n",
    "print(len(fruits))"
   ],
   "outputs": [
    {
     "output_type": "stream",
     "name": "stdout",
     "text": [
      "{'apple', 'cherry', 'banana', 'watermelon'}\n",
      "{'peach', 'kiwi', 'watermelon', 'apple', 'cherry', 'papaya', 'orange', 'banana', 'lemon'}\n",
      "{'peach', 'kiwi', 'watermelon', 'apple', 'cherry', 'papaya', 'orange', 'lemon'}\n",
      "{'peach', 'kiwi', 'watermelon', 'cherry', 'papaya', 'orange', 'lemon'}\n",
      "7\n",
      "{'peach', 'kiwi', 'watermelon', 'cherry', 'papaya', 'orange', 'lemon'}\n",
      "7\n"
     ]
    }
   ],
   "metadata": {}
  },
  {
   "cell_type": "code",
   "execution_count": 63,
   "source": [
    "song_monkey = '''They say, oh my god, I see the way you shine\r\n",
    "Take your hands, my dear, and place them both in mine\r\n",
    "You know you stopped me dead while I was passing by\r\n",
    "And now I beg to see you dance just one more time\r\n",
    "Ooh I see you, see you, see you every time\r\n",
    "And, oh my, I, I, I like your style\r\n",
    "You, you make me, make me, make me wanna cry\r\n",
    "And now I beg to see you dance just one more time'''\r\n",
    "\r\n",
    "song_ocean = '''Say it's true, pink and blue\r\n",
    "I can share your situation\r\n",
    "Been holding our, emotions back\r\n",
    "Will only make us cry\r\n",
    "If you go, I know, but you know\r\n",
    "It ain't so serious anyway\r\n",
    "When that cloud arrives we'll live on...'''\r\n"
   ],
   "outputs": [],
   "metadata": {}
  },
  {
   "cell_type": "code",
   "execution_count": 67,
   "source": [
    "print(repr(song_monkey))\r\n",
    "word_list1 = song_monkey.replace('\\n', ' ').replace(',', ' ').lower().strip().split(' ')\r\n",
    "print(len(word_list1))\r\n"
   ],
   "outputs": [
    {
     "output_type": "stream",
     "name": "stdout",
     "text": [
      "'They say, oh my god, I see the way you shine\\nTake your hands, my dear, and place them both in mine\\nYou know you stopped me dead while I was passing by\\nAnd now I beg to see you dance just one more time\\nOoh I see you, see you, see you every time\\nAnd, oh my, I, I, I like your style\\nYou, you make me, make me, make me wanna cry\\nAnd now I beg to see you dance just one more time'\n",
      "99\n"
     ]
    }
   ],
   "metadata": {}
  },
  {
   "cell_type": "code",
   "execution_count": null,
   "source": [],
   "outputs": [],
   "metadata": {}
  },
  {
   "cell_type": "code",
   "execution_count": 1,
   "source": [
    "#rasti pasikartojancius elemntus tarp listu a b\r\n",
    "\r\n",
    "a = [1, 2, 3, 4, 5, 6, 7, 8, 9, 15]\r\n",
    "b = [3, 8, 9, 11, 15]\r\n",
    "\r\n",
    "# def intersection(a, b):\r\n",
    "   # return set(a).intersection(b)\r\n",
    "    \r\n",
    "\r\n",
    " \r\n",
    "set_a = set(a)\r\n",
    "set_b = set(b)\r\n",
    "print(set_a.intersection(set_b))\r\n",
    "#intersection_ab = (set_a.intersection(set_b))\r\n",
    "#c= list(intersection_ab)\r\n",
    "#print(c)\r\n",
    "\r\n",
    "\r\n",
    "\r\n"
   ],
   "outputs": [
    {
     "output_type": "stream",
     "name": "stdout",
     "text": [
      "{8, 9, 3, 15}\n"
     ]
    }
   ],
   "metadata": {}
  },
  {
   "cell_type": "code",
   "execution_count": 16,
   "source": [
    "x = [1, 5, 1, 2, 8, -9, 10, 1, -8, -900, 14, 5, -8, 2, 1, -20, 900, 800, -6, -8, 12, 1]\r\n",
    "x_set = set(x)\r\n",
    "print(x_set)\r\n",
    "for numbers in x_set:\r\n",
    "    if numbers > 0:\r\n",
    "        print(numbers)\r\n",
    "\r\n",
    "        \r\n",
    "      "
   ],
   "outputs": [
    {
     "output_type": "stream",
     "name": "stdout",
     "text": [
      "{800, 1, 2, 900, 5, 8, 10, -20, 12, 14, -9, -8, -6, -900}\n",
      "800\n",
      "1\n",
      "2\n",
      "900\n",
      "5\n",
      "8\n",
      "10\n",
      "12\n",
      "14\n"
     ]
    }
   ],
   "metadata": {}
  },
  {
   "cell_type": "markdown",
   "source": [
    "x = { \"cost_price\": 32.67,\r\n",
    "\"sell_price: 45.00\",\r\n",
    "\"inventory\": 1212 }\r\n",
    "# profit\r\n",
    "\r\n",
    "price1 = float(x.get('cost_price')) * float(x.get('inventory'))\r\n",
    "price2 = float(x.get('sell_price')) * float(x.get('inventory'))\r\n",
    "profit = price2 - price1\r\n",
    "round(profit , 2)\r\n",
    "print(profit)"
   ],
   "metadata": {}
  },
  {
   "cell_type": "code",
   "execution_count": 5,
   "source": [
    "# list compreensive\r\n",
    "mainlist = [1, 5, 1, 2, 8, -9, 10, 1, -8, -900, 14, 5, -8, 2, 1, -20, 900, 800, -6, -8, 12, 1]\r\n",
    "result_list = []\r\n",
    "for number in mainlist:\r\n",
    "    if number > 0:\r\n",
    "        result_list.append(number)\r\n",
    "print(result_list)"
   ],
   "outputs": [
    {
     "output_type": "stream",
     "name": "stdout",
     "text": [
      "[1, 5, 1, 2, 8, 10, 1, 14, 5, 2, 1, 900, 800, 12, 1]\n"
     ]
    }
   ],
   "metadata": {}
  },
  {
   "cell_type": "code",
   "execution_count": 4,
   "source": [
    "# list compreensive\r\n",
    "mainlist1 = [1, 5, 1, 2, 8, -9, 10, 1, -8, -900, 14, 5, -8, 2, 1, -20, 900, 800, -6, -8, 12, 1]\r\n",
    "result_list = [number * 2 for number in mainlist if number >0] # trumpasis for ciklas\r\n",
    "print(result_list)"
   ],
   "outputs": [
    {
     "output_type": "stream",
     "name": "stdout",
     "text": [
      "[2, 10, 2, 4, 16, 20, 2, 28, 10, 4, 2, 1800, 1600, 24, 2]\n"
     ]
    }
   ],
   "metadata": {}
  },
  {
   "cell_type": "code",
   "execution_count": 7,
   "source": [
    "lista = [1, 2, 3]\r\n",
    "listb = [4, 5, 6]\r\n",
    "result = [(a,b) for a in lista for b in listb]\r\n",
    "print(result)"
   ],
   "outputs": [
    {
     "output_type": "stream",
     "name": "stdout",
     "text": [
      "[(1, 4), (1, 5), (1, 6), (2, 4), (2, 5), (2, 6), (3, 4), (3, 5), (3, 6)]\n"
     ]
    }
   ],
   "metadata": {}
  }
 ],
 "metadata": {
  "orig_nbformat": 4,
  "language_info": {
   "name": "python",
   "version": "3.9.2",
   "mimetype": "text/x-python",
   "codemirror_mode": {
    "name": "ipython",
    "version": 3
   },
   "pygments_lexer": "ipython3",
   "nbconvert_exporter": "python",
   "file_extension": ".py"
  },
  "kernelspec": {
   "name": "python3",
   "display_name": "Python 3.9.2 64-bit"
  },
  "interpreter": {
   "hash": "28a8d0d51acbb5ec547b80c50a76f865b7f5e8a6e570f781e88891989fcd299d"
  }
 },
 "nbformat": 4,
 "nbformat_minor": 2
}