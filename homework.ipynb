{
 "cells": [
  {
   "cell_type": "markdown",
   "source": [
    "1 PASKAITA"
   ],
   "metadata": {}
  },
  {
   "cell_type": "code",
   "execution_count": 12,
   "source": [
    "my_name = 'Justina'\r\n",
    "my_surname = \"Maslinskaite\"\r\n",
    "# print(my_name + ' ' + my_surname)\r\n",
    "print(f'My name {my_name} and my surname is {my_surname}')\r\n",
    "print(f'{my_name} {my_surname}')"
   ],
   "outputs": [
    {
     "output_type": "stream",
     "name": "stdout",
     "text": [
      "My name Justina and my surname is Maslinskaite\n",
      "Justina Maslinskaite\n"
     ]
    }
   ],
   "metadata": {}
  },
  {
   "cell_type": "code",
   "execution_count": 3,
   "source": [
    "my_string = 'Python makes me really really happy!'\r\n",
    "print(my_string.upper())"
   ],
   "outputs": [
    {
     "output_type": "stream",
     "name": "stdout",
     "text": [
      "PYTHON MAKES ME REALLY REALLY HAPPY!\n"
     ]
    }
   ],
   "metadata": {}
  },
  {
   "cell_type": "code",
   "execution_count": 13,
   "source": [
    "my_word = my_string[0:6]\r\n",
    "print(my_word)\r\n",
    "print(my_word.replace('tho', 'ThO'))"
   ],
   "outputs": [
    {
     "output_type": "stream",
     "name": "stdout",
     "text": [
      "Python\n",
      "PyThOn\n"
     ]
    }
   ],
   "metadata": {}
  },
  {
   "cell_type": "code",
   "execution_count": 21,
   "source": [
    "sentence = 'Hello World, I am happy to learn Python!'\r\n",
    "print(sentence.find('happy'))\r\n",
    "print(sentence[18:24])\r\n",
    "print(sentence.index('happy'))\r\n",
    "print(len('happy'))\r\n",
    "print(len(sentence))\r\n",
    "print(sentence.find('to'))\r\n",
    "print(sentence[24:27])"
   ],
   "outputs": [
    {
     "output_type": "stream",
     "name": "stdout",
     "text": [
      "18\n",
      "happy \n",
      "18\n",
      "5\n",
      "40\n",
      "24\n",
      "to \n"
     ]
    }
   ],
   "metadata": {}
  },
  {
   "cell_type": "code",
   "execution_count": 29,
   "source": [
    "int1 = 19\r\n",
    "int2 = 7\r\n",
    "\r\n",
    "print(int1 + int2)\r\n",
    "print(int1 - int2)\r\n",
    "print(int1 * int2)\r\n",
    "print(int1 / int2)\r\n",
    "print(int1 % int2) # kodel 5?"
   ],
   "outputs": [
    {
     "output_type": "stream",
     "name": "stdout",
     "text": [
      "26\n",
      "12\n",
      "133\n",
      "2.7142857142857144\n",
      "5\n"
     ]
    }
   ],
   "metadata": {}
  },
  {
   "cell_type": "code",
   "execution_count": 30,
   "source": [
    "print (3 < 4)\r\n",
    "print ('u' in 'sun')\r\n",
    "print ('s' in 'JUSTINA'.lower ())\r\n",
    "print (True == 1)\r\n",
    "print (False == 0)\r\n",
    "bool ('a')"
   ],
   "outputs": [
    {
     "output_type": "stream",
     "name": "stdout",
     "text": [
      "True\n",
      "True\n",
      "True\n",
      "True\n",
      "True\n"
     ]
    },
    {
     "output_type": "execute_result",
     "data": {
      "text/plain": [
       "True"
      ]
     },
     "metadata": {},
     "execution_count": 30
    }
   ],
   "metadata": {}
  },
  {
   "cell_type": "code",
   "execution_count": 31,
   "source": [
    "print (3 > 4)\r\n",
    "print ('a' in 'sun')\r\n",
    "print ('s' in 'JUSTINA')\r\n",
    "print (True == 0)\r\n",
    "bool ('')"
   ],
   "outputs": [
    {
     "output_type": "stream",
     "name": "stdout",
     "text": [
      "False\n",
      "False\n",
      "False\n",
      "False\n"
     ]
    },
    {
     "output_type": "execute_result",
     "data": {
      "text/plain": [
       "False"
      ]
     },
     "metadata": {},
     "execution_count": 31
    }
   ],
   "metadata": {}
  },
  {
   "cell_type": "code",
   "execution_count": 73,
   "source": [
    "list1 = ['stalas', 'kede', 'sofa', 'lova', 'spinta']\r\n",
    "print(len(list1))\r\n",
    "list1.append('suolas')\r\n",
    "print(list1)\r\n",
    "'sofa' in list1\r\n",
    "\r\n",
    "list2 = [1, 1, 1, 2, 5, 9, 6, 3, 2, 2, 4]\r\n",
    "list3 = list1 + list2\r\n",
    "print(list3)\r\n",
    "list3.remove(list3[-1])\r\n",
    "print(list3)\r\n",
    "list3.pop(1)\r\n",
    "print(list3)\r\n",
    "print(list3.count(1))\r\n",
    "list2.sort()\r\n",
    "print(list2)\r\n"
   ],
   "outputs": [
    {
     "output_type": "stream",
     "name": "stdout",
     "text": [
      "5\n",
      "['stalas', 'kede', 'sofa', 'lova', 'spinta', 'suolas']\n",
      "['stalas', 'kede', 'sofa', 'lova', 'spinta', 'suolas', 1, 1, 1, 2, 5, 9, 6, 3, 2, 2, 4]\n",
      "['stalas', 'kede', 'sofa', 'lova', 'spinta', 'suolas', 1, 1, 1, 2, 5, 9, 6, 3, 2, 2]\n",
      "['stalas', 'sofa', 'lova', 'spinta', 'suolas', 1, 1, 1, 2, 5, 9, 6, 3, 2, 2]\n",
      "3\n",
      "[1, 1, 1, 2, 2, 2, 3, 4, 5, 6, 9]\n"
     ]
    }
   ],
   "metadata": {}
  },
  {
   "cell_type": "code",
   "execution_count": null,
   "source": [],
   "outputs": [],
   "metadata": {}
  },
  {
   "cell_type": "code",
   "execution_count": null,
   "source": [],
   "outputs": [],
   "metadata": {}
  }
 ],
 "metadata": {
  "orig_nbformat": 4,
  "language_info": {
   "name": "python",
   "version": "3.9.2",
   "mimetype": "text/x-python",
   "codemirror_mode": {
    "name": "ipython",
    "version": 3
   },
   "pygments_lexer": "ipython3",
   "nbconvert_exporter": "python",
   "file_extension": ".py"
  },
  "kernelspec": {
   "name": "python3",
   "display_name": "Python 3.9.2 64-bit"
  },
  "interpreter": {
   "hash": "28a8d0d51acbb5ec547b80c50a76f865b7f5e8a6e570f781e88891989fcd299d"
  }
 },
 "nbformat": 4,
 "nbformat_minor": 2
}