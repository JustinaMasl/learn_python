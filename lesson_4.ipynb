{
 "cells": [
  {
   "cell_type": "code",
   "execution_count": 1,
   "source": [
    "def say_hello():\r\n",
    "    print('Hello world')\r\n",
    "    print('and goodbye')\r\n",
    "say_hello()"
   ],
   "outputs": [
    {
     "output_type": "stream",
     "name": "stdout",
     "text": [
      "Hello world\n",
      "and goodbye\n"
     ]
    }
   ],
   "metadata": {}
  },
  {
   "cell_type": "code",
   "execution_count": 2,
   "source": [
    "def say_hello2(name):           # def ir visi 3 print yra tik funkcijos aprasymas\r\n",
    "\r\n",
    "    print('Hello world')\r\n",
    "    print(f'Hello {name}')\r\n",
    "    print('and goodbye')\r\n",
    "\r\n",
    "say_hello2('Darius')        # i6kvie2iam funkcja"
   ],
   "outputs": [
    {
     "output_type": "stream",
     "name": "stdout",
     "text": [
      "Hello world\n",
      "Hello Darius\n",
      "and goodbye\n"
     ]
    }
   ],
   "metadata": {}
  },
  {
   "cell_type": "code",
   "execution_count": 6,
   "source": [
    "def add_numbers(number_1, number_2=5):\r\n",
    "    return number_1 + number_2       # return grazina vert3 i6 funkcijos. po to parasytas print niekad neveiks, nes return grizta i f-ja ir print nebeziuri)\r\n",
    "\r\n",
    "print(add_numbers(10, 354))\r\n",
    "print(add_numbers(10)) # bus 5+10\r\n",
    "\r\n"
   ],
   "outputs": [
    {
     "output_type": "stream",
     "name": "stdout",
     "text": [
      "364\n",
      "15\n"
     ]
    }
   ],
   "metadata": {}
  },
  {
   "cell_type": "code",
   "execution_count": null,
   "source": [
    "def add_to_numbers(number_to_add, *args)\r\n",
    "return [number + number_to_add for number in args]\r\n",
    "\r\n"
   ],
   "outputs": [],
   "metadata": {}
  },
  {
   "cell_type": "code",
   "execution_count": 5,
   "source": [
    "def say_hello3(name, **kwargs):           # ** kai elementai turi nurodytus pavadinimus\r\n",
    "\r\n",
    "    print('Hello world')\r\n",
    "    print(f'Hello {name}')\r\n",
    "    for key in kwargs:\r\n",
    "        print(f'{key}:{kwargs[key]}')\r\n",
    "    print('and goodbye')\r\n",
    "\r\n",
    "say_hello3('Darius', hello_kestuti='Sveikas Kestuti', hello_Darija='Sveika Darija', hello_Justina='Sveika Justina')     "
   ],
   "outputs": [
    {
     "output_type": "stream",
     "name": "stdout",
     "text": [
      "Hello world\n",
      "Hello Darius\n",
      "hello_kestuti:Sveikas Kestuti\n",
      "hello_Darija:Sveika Darija\n",
      "hello_Justina:Sveika Justina\n",
      "and goodbye\n"
     ]
    }
   ],
   "metadata": {}
  },
  {
   "cell_type": "code",
   "execution_count": 10,
   "source": [
    "# function Docstring\r\n",
    "\r\n",
    "def add_2(a,b):\r\n",
    "    '''\r\n",
    "    This function ads 2 numbers together\r\n",
    "    a : first number (float) to add\r\n",
    "    c : second number (float) to add\r\n",
    "\r\n",
    "    '''\r\n",
    "\r\n",
    "    return a + b\r\n"
   ],
   "outputs": [],
   "metadata": {}
  },
  {
   "cell_type": "code",
   "execution_count": null,
   "source": [
    "add_2"
   ],
   "outputs": [],
   "metadata": {}
  },
  {
   "cell_type": "code",
   "execution_count": 13,
   "source": [
    "def my_func(some_string):\r\n",
    "    print(some_string)"
   ],
   "outputs": [],
   "metadata": {}
  },
  {
   "cell_type": "code",
   "execution_count": 14,
   "source": [
    "print_func = my_func\r\n",
    "print_func('Hello')"
   ],
   "outputs": [
    {
     "output_type": "stream",
     "name": "stdout",
     "text": [
      "Hello\n"
     ]
    }
   ],
   "metadata": {}
  },
  {
   "cell_type": "code",
   "execution_count": 21,
   "source": [
    "def mano_funkcija( *args):\r\n",
    "    my_dict = {1: 0, 2: 0, 3: 0, 4: 0, 5:0}\r\n",
    "    for number in range(1, 11):\r\n",
    "        for input_number in args:\r\n",
    "             if input_number % number == 0:\r\n",
    "                 my_dict[number] +=1\r\n",
    "\r\n",
    "    return my_dict\r\n"
   ],
   "outputs": [],
   "metadata": {}
  },
  {
   "cell_type": "code",
   "execution_count": 25,
   "source": [
    "result_dict = mano_funkcija(1, 2, 65) # reikia pabaigt\r\n",
    "print(result_dict)"
   ],
   "outputs": [
    {
     "output_type": "stream",
     "name": "stdout",
     "text": [
      "{1: 3, 2: 1, 3: 0, 4: 0, 5: 1}\n"
     ]
    }
   ],
   "metadata": {}
  },
  {
   "cell_type": "markdown",
   "source": [
    "While loop"
   ],
   "metadata": {}
  },
  {
   "cell_type": "code",
   "execution_count": 15,
   "source": [
    "# for loop - kai is anksto zinom kik reikes pakartoti veiksma, o kai nezinom - while loop\r\n",
    "x = 0\r\n",
    "while x < 5:\r\n",
    "    print (x)\r\n",
    "    x += 1\r\n"
   ],
   "outputs": [
    {
     "output_type": "stream",
     "name": "stdout",
     "text": [
      "0\n",
      "1\n",
      "2\n",
      "3\n",
      "4\n"
     ]
    }
   ],
   "metadata": {}
  },
  {
   "cell_type": "code",
   "execution_count": null,
   "source": [
    "x = 0\r\n",
    "while True:\r\n",
    "    print (x)\r\n",
    "    if x > 5:\r\n",
    "        break\r\n",
    "    x += 1"
   ],
   "outputs": [],
   "metadata": {}
  },
  {
   "cell_type": "code",
   "execution_count": null,
   "source": [
    "human_input = ''\r\n",
    "\r\n",
    "while not human_input:\r\n",
    "    human_input = input('What is your name?')\r\n",
    "    "
   ],
   "outputs": [],
   "metadata": {}
  },
  {
   "cell_type": "code",
   "execution_count": 16,
   "source": [
    "x = 10\r\n",
    "y = 0\r\n",
    "while x > 5 and y < 3:\r\n",
    "    print (f'{x}, {y}')\r\n",
    "    x -= 1\r\n",
    "    y += 2\r\n"
   ],
   "outputs": [
    {
     "output_type": "stream",
     "name": "stdout",
     "text": [
      "10, 0\n",
      "9, 2\n"
     ]
    }
   ],
   "metadata": {}
  },
  {
   "cell_type": "code",
   "execution_count": 3,
   "source": [
    "def function_Excercise(list_1, list_2):\r\n",
    "    list_1 = [x for x in list_1 if x <= 10]\r\n",
    "    print(list_1)\r\n",
    "    list_2 = [x for x in list_2 if abs(x) > 9]\r\n",
    "    print(list_2)\r\n",
    "    return sum(list_1) * sum(list_2)\r\n",
    "    \r\n",
    "    \r\n"
   ],
   "outputs": [],
   "metadata": {}
  },
  {
   "cell_type": "code",
   "execution_count": 4,
   "source": [
    "function_Excercise([10,9,6,16,15,55,2,7], [20,642,33,76,9,7,2])"
   ],
   "outputs": [
    {
     "output_type": "stream",
     "name": "stdout",
     "text": [
      "[10, 9, 6, 2, 7]\n",
      "[20, 642, 33, 76]\n"
     ]
    },
    {
     "output_type": "execute_result",
     "data": {
      "text/plain": [
       "26214"
      ]
     },
     "metadata": {},
     "execution_count": 4
    }
   ],
   "metadata": {}
  },
  {
   "cell_type": "code",
   "execution_count": 1,
   "source": [
    "def Skaiciuokle(ilgis, plotis, aukstis, shape):\r\n",
    "    result_dict = {'perimetras' : None, 'plotas' : None, 'turis' : None}\r\n",
    "    if shape == 'kubas':\r\n",
    "       result_dict['perimetras']  = ilgis + plotis + aukstis\r\n",
    "       result_dict['plotas'] = ilgis + plotis * 6\r\n",
    "       result_dict['turis'] = ilgis * plotis * ilgis\r\n",
    "    # elif\r\n",
    "    else:\r\n",
    "        print(f'figura {shape} neegzistuoja duomenu bazeje')\r\n",
    "    return result_dict\r\n",
    "\r\n"
   ],
   "outputs": [],
   "metadata": {}
  },
  {
   "cell_type": "code",
   "execution_count": 2,
   "source": [
    "Skaiciuokle(ilgis = 4, plotis = 3, aukstis = 5, shape = 'kubas')"
   ],
   "outputs": [
    {
     "output_type": "execute_result",
     "data": {
      "text/plain": [
       "{'perimetras': 12, 'plotas': 22, 'turis': 48}"
      ]
     },
     "metadata": {},
     "execution_count": 2
    }
   ],
   "metadata": {}
  }
 ],
 "metadata": {
  "orig_nbformat": 4,
  "language_info": {
   "name": "python",
   "version": "3.9.6",
   "mimetype": "text/x-python",
   "codemirror_mode": {
    "name": "ipython",
    "version": 3
   },
   "pygments_lexer": "ipython3",
   "nbconvert_exporter": "python",
   "file_extension": ".py"
  },
  "kernelspec": {
   "name": "python3",
   "display_name": "Python 3.9.6 64-bit"
  },
  "interpreter": {
   "hash": "1d0febc49e1fc15a3a396940b992e1b6cab9d0e3b3ca076f5f78bec92a9a951d"
  }
 },
 "nbformat": 4,
 "nbformat_minor": 2
}