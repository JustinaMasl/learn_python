{
 "cells": [
  {
   "cell_type": "code",
   "execution_count": 1,
   "source": [
    "def say_hello():\r\n",
    "    print('Hello world')\r\n",
    "    print('and goodbye')\r\n",
    "say_hello()"
   ],
   "outputs": [
    {
     "output_type": "stream",
     "name": "stdout",
     "text": [
      "Hello world\n",
      "and goodbye\n"
     ]
    }
   ],
   "metadata": {}
  },
  {
   "cell_type": "code",
   "execution_count": 2,
   "source": [
    "def say_hello2(name):           # def ir visi 3 print yra tik funkcijos aprasymas\r\n",
    "\r\n",
    "    print('Hello world')\r\n",
    "    print(f'Hello {name}')\r\n",
    "    print('and goodbye')\r\n",
    "\r\n",
    "say_hello2('Darius')        # i6kvie2iam funkcja"
   ],
   "outputs": [
    {
     "output_type": "stream",
     "name": "stdout",
     "text": [
      "Hello world\n",
      "Hello Darius\n",
      "and goodbye\n"
     ]
    }
   ],
   "metadata": {}
  },
  {
   "cell_type": "code",
   "execution_count": 6,
   "source": [
    "def add_numbers(number_1, number_2=5):\r\n",
    "    return number_1 + number_2       # return grazina vert3 i6 funkcijos. po to parasytas print niekad neveiks, nes return grizta i f-ja ir print nebeziuri)\r\n",
    "\r\n",
    "print(add_numbers(10, 354))\r\n",
    "print(add_numbers(10)) # bus 5+10\r\n",
    "\r\n"
   ],
   "outputs": [
    {
     "output_type": "stream",
     "name": "stdout",
     "text": [
      "364\n",
      "15\n"
     ]
    }
   ],
   "metadata": {}
  },
  {
   "cell_type": "code",
   "execution_count": null,
   "source": [
    "def add_to_numbers(number_to_add, *args)\r\n",
    "return [number + number_to_add for number in args]\r\n",
    "\r\n"
   ],
   "outputs": [],
   "metadata": {}
  },
  {
   "cell_type": "code",
   "execution_count": 5,
   "source": [
    "def say_hello3(name, **kwargs):           # ** kai elementai turi nurodytus pavadinimus\r\n",
    "\r\n",
    "    print('Hello world')\r\n",
    "    print(f'Hello {name}')\r\n",
    "    for key in kwargs:\r\n",
    "        print(f'{key}:{kwargs[key]}')\r\n",
    "    print('and goodbye')\r\n",
    "\r\n",
    "say_hello3('Darius', hello_kestuti='Sveikas Kestuti', hello_Darija='Sveika Darija', hello_Justina='Sveika Justina')     "
   ],
   "outputs": [
    {
     "output_type": "stream",
     "name": "stdout",
     "text": [
      "Hello world\n",
      "Hello Darius\n",
      "hello_kestuti:Sveikas Kestuti\n",
      "hello_Darija:Sveika Darija\n",
      "hello_Justina:Sveika Justina\n",
      "and goodbye\n"
     ]
    }
   ],
   "metadata": {}
  },
  {
   "cell_type": "code",
   "execution_count": 10,
   "source": [
    "# function Docstring\r\n",
    "\r\n",
    "def add_2(a,b):\r\n",
    "    '''\r\n",
    "    This function ads 2 numbers together\r\n",
    "    a : first number (float) to add\r\n",
    "    c : second number (float) to add\r\n",
    "\r\n",
    "    '''\r\n",
    "\r\n",
    "    return a + b\r\n"
   ],
   "outputs": [],
   "metadata": {}
  },
  {
   "cell_type": "code",
   "execution_count": null,
   "source": [
    "add_2"
   ],
   "outputs": [],
   "metadata": {}
  },
  {
   "cell_type": "code",
   "execution_count": 13,
   "source": [
    "def my_func(some_string):\r\n",
    "    print(some_string)"
   ],
   "outputs": [],
   "metadata": {}
  },
  {
   "cell_type": "code",
   "execution_count": 14,
   "source": [
    "print_func = my_func\r\n",
    "print_func('Hello')"
   ],
   "outputs": [
    {
     "output_type": "stream",
     "name": "stdout",
     "text": [
      "Hello\n"
     ]
    }
   ],
   "metadata": {}
  },
  {
   "cell_type": "code",
   "execution_count": null,
   "source": [
    "def (mano_funkcija( *args):\r\n",
    "    my_dict = {1: 0, 2: 0, 3: 0, 4: 0, 5:0}\r\n",
    "    for number in range(1, 11):\r\n",
    "        for input_number in args:\r\n",
    "             if input_number % number == 0:\r\n",
    "                 my_dict[number] +=1\r\n",
    "\r\n",
    "return my_dict\r\n"
   ],
   "outputs": [],
   "metadata": {}
  },
  {
   "cell_type": "code",
   "execution_count": null,
   "source": [
    "result_dict = mano_funkcija(1, 2, 65, ) # reikia pabaigt"
   ],
   "outputs": [],
   "metadata": {}
  },
  {
   "cell_type": "markdown",
   "source": [
    "While loop"
   ],
   "metadata": {}
  },
  {
   "cell_type": "code",
   "execution_count": 15,
   "source": [
    "# for loop - kai is anksto zinom kik reikes pakartoti veiksma, o kai nezinom - while loop\r\n",
    "x = 0\r\n",
    "while x < 5:\r\n",
    "    print (x)\r\n",
    "    x += 1\r\n"
   ],
   "outputs": [
    {
     "output_type": "stream",
     "name": "stdout",
     "text": [
      "0\n",
      "1\n",
      "2\n",
      "3\n",
      "4\n"
     ]
    }
   ],
   "metadata": {}
  },
  {
   "cell_type": "code",
   "execution_count": null,
   "source": [
    "x = 0\r\n",
    "while True:\r\n",
    "    print (x)\r\n",
    "    if x > 5:\r\n",
    "        break\r\n",
    "    x += 1"
   ],
   "outputs": [],
   "metadata": {}
  },
  {
   "cell_type": "code",
   "execution_count": null,
   "source": [
    "human_input = ''\r\n",
    "\r\n",
    "while not human_input:\r\n",
    "    human_input = input('What is your name?')\r\n",
    "    "
   ],
   "outputs": [],
   "metadata": {}
  },
  {
   "cell_type": "code",
   "execution_count": 16,
   "source": [
    "x = 10\r\n",
    "y = 0\r\n",
    "while x > 5 and y < 3:\r\n",
    "    print (f'{x}, {y}')\r\n",
    "    x -= 1\r\n",
    "    y += 2\r\n"
   ],
   "outputs": [
    {
     "output_type": "stream",
     "name": "stdout",
     "text": [
      "10, 0\n",
      "9, 2\n"
     ]
    }
   ],
   "metadata": {}
  },
  {
   "cell_type": "code",
   "execution_count": 29,
   "source": [
    "def functionExcercise(list_1, list_2):\r\n",
    "    list_1 = [x for x in list_1 if x <= 10]\r\n",
    "    print(list_1)\r\n",
    "    list_2 = [ x for x in list_2 if abs(x) > 9]\r\n",
    "    print(list_2)\r\n",
    "    return sum(list_1) * sum(list_2)\r\n",
    "    \r\n",
    "    \r\n"
   ],
   "outputs": [],
   "metadata": {}
  },
  {
   "cell_type": "code",
   "execution_count": 32,
   "source": [
    "print(functionExercise([10,9,6,16,15,55,2,7],[20,642,33,76,9,7,2]))"
   ],
   "outputs": [
    {
     "output_type": "error",
     "ename": "NameError",
     "evalue": "name 'functionExercise' is not defined",
     "traceback": [
      "\u001b[1;31m---------------------------------------------------------------------------\u001b[0m",
      "\u001b[1;31mNameError\u001b[0m                                 Traceback (most recent call last)",
      "\u001b[1;32mC:\\Users\\MOKYTO~1\\AppData\\Local\\Temp/ipykernel_4304/2381310250.py\u001b[0m in \u001b[0;36m<module>\u001b[1;34m\u001b[0m\n\u001b[1;32m----> 1\u001b[1;33m \u001b[0mprint\u001b[0m\u001b[1;33m(\u001b[0m\u001b[0mfunctionExercise\u001b[0m\u001b[1;33m(\u001b[0m\u001b[1;33m[\u001b[0m\u001b[1;36m10\u001b[0m\u001b[1;33m,\u001b[0m\u001b[1;36m9\u001b[0m\u001b[1;33m,\u001b[0m\u001b[1;36m6\u001b[0m\u001b[1;33m,\u001b[0m\u001b[1;36m16\u001b[0m\u001b[1;33m,\u001b[0m\u001b[1;36m15\u001b[0m\u001b[1;33m,\u001b[0m\u001b[1;36m55\u001b[0m\u001b[1;33m,\u001b[0m\u001b[1;36m2\u001b[0m\u001b[1;33m,\u001b[0m\u001b[1;36m7\u001b[0m\u001b[1;33m]\u001b[0m\u001b[1;33m,\u001b[0m\u001b[1;33m[\u001b[0m\u001b[1;36m20\u001b[0m\u001b[1;33m,\u001b[0m\u001b[1;36m642\u001b[0m\u001b[1;33m,\u001b[0m\u001b[1;36m33\u001b[0m\u001b[1;33m,\u001b[0m\u001b[1;36m76\u001b[0m\u001b[1;33m,\u001b[0m\u001b[1;36m9\u001b[0m\u001b[1;33m,\u001b[0m\u001b[1;36m7\u001b[0m\u001b[1;33m,\u001b[0m\u001b[1;36m2\u001b[0m\u001b[1;33m]\u001b[0m\u001b[1;33m)\u001b[0m\u001b[1;33m)\u001b[0m\u001b[1;33m\u001b[0m\u001b[1;33m\u001b[0m\u001b[0m\n\u001b[0m",
      "\u001b[1;31mNameError\u001b[0m: name 'functionExercise' is not defined"
     ]
    }
   ],
   "metadata": {}
  },
  {
   "cell_type": "code",
   "execution_count": 40,
   "source": [
    "def Skaiciuokle(ilgis, plotis, aukstis, shape):\r\n",
    "    result_dict = {'perimetras' : None, 'plotas' : None, 'turis' : None}\r\n",
    "    if shape == 'kubas':\r\n",
    "       result_dict['parametras']  = ilgis + plotis + aukstis\r\n",
    "       result_dict['plotas'] = ilgis + plotis * 6\r\n",
    "       result_dict['turis'] = ilgis * plotis * ilgis\r\n",
    "    # elif\r\n",
    "    else:\r\n",
    "        print(f'{figura {forma} neegzistuoja duomenu bazeje.}')\r\n",
    "    return result_dict\r\n",
    "\r\n"
   ],
   "outputs": [
    {
     "output_type": "error",
     "ename": "SyntaxError",
     "evalue": "f-string: invalid syntax (Temp/ipykernel_4304/1055273640.py, line 9)",
     "traceback": [
      "\u001b[1;36m  File \u001b[1;32m\"C:\\Users\\MOKYTO~1\\AppData\\Local\\Temp/ipykernel_4304/1055273640.py\"\u001b[1;36m, line \u001b[1;32m9\u001b[0m\n\u001b[1;33m    print(f'{figura {forma} neegzistuoja duomenu bazeje.}')\u001b[0m\n\u001b[1;37m    ^\u001b[0m\n\u001b[1;31mSyntaxError\u001b[0m\u001b[1;31m:\u001b[0m f-string: invalid syntax\n"
     ]
    }
   ],
   "metadata": {}
  },
  {
   "cell_type": "code",
   "execution_count": 34,
   "source": [
    "Skaciuokle(ilgis=4, plotis=3, aukstis=5, forma='kubas')"
   ],
   "outputs": [
    {
     "output_type": "error",
     "ename": "NameError",
     "evalue": "name 'Skaciuokle' is not defined",
     "traceback": [
      "\u001b[1;31m---------------------------------------------------------------------------\u001b[0m",
      "\u001b[1;31mNameError\u001b[0m                                 Traceback (most recent call last)",
      "\u001b[1;32mC:\\Users\\MOKYTO~1\\AppData\\Local\\Temp/ipykernel_4304/91556559.py\u001b[0m in \u001b[0;36m<module>\u001b[1;34m\u001b[0m\n\u001b[1;32m----> 1\u001b[1;33m \u001b[0mSkaciuokle\u001b[0m\u001b[1;33m(\u001b[0m\u001b[0milgis\u001b[0m\u001b[1;33m=\u001b[0m\u001b[1;36m4\u001b[0m\u001b[1;33m,\u001b[0m \u001b[0mplotis\u001b[0m\u001b[1;33m=\u001b[0m\u001b[1;36m3\u001b[0m\u001b[1;33m,\u001b[0m \u001b[0maukstis\u001b[0m\u001b[1;33m=\u001b[0m\u001b[1;36m5\u001b[0m\u001b[1;33m,\u001b[0m \u001b[0mforma\u001b[0m\u001b[1;33m=\u001b[0m\u001b[1;34m'kubas'\u001b[0m\u001b[1;33m)\u001b[0m\u001b[1;33m\u001b[0m\u001b[1;33m\u001b[0m\u001b[0m\n\u001b[0m",
      "\u001b[1;31mNameError\u001b[0m: name 'Skaciuokle' is not defined"
     ]
    }
   ],
   "metadata": {}
  }
 ],
 "metadata": {
  "orig_nbformat": 4,
  "language_info": {
   "name": "python",
   "version": "3.9.2",
   "mimetype": "text/x-python",
   "codemirror_mode": {
    "name": "ipython",
    "version": 3
   },
   "pygments_lexer": "ipython3",
   "nbconvert_exporter": "python",
   "file_extension": ".py"
  },
  "kernelspec": {
   "name": "python3",
   "display_name": "Python 3.9.2 64-bit"
  },
  "interpreter": {
   "hash": "28a8d0d51acbb5ec547b80c50a76f865b7f5e8a6e570f781e88891989fcd299d"
  }
 },
 "nbformat": 4,
 "nbformat_minor": 2
}