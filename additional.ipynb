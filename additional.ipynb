{
 "cells": [
  {
   "cell_type": "code",
   "execution_count": 2,
   "source": [
    "print(1, 2, 3, 4, sep = '/')\r\n",
    "print(1, 2, 3, 4, sep = '/', end = '.')"
   ],
   "outputs": [
    {
     "output_type": "stream",
     "name": "stdout",
     "text": [
      "1/2/3/4\n",
      "1/2/3/4."
     ]
    }
   ],
   "metadata": {}
  },
  {
   "cell_type": "code",
   "execution_count": 5,
   "source": [
    "num = input('Write your lucky number: ')\r\n",
    "print('My lucky number is ' , num)\r\n",
    "# input visada irasyta verte laiko string tipo"
   ],
   "outputs": [
    {
     "output_type": "stream",
     "name": "stdout",
     "text": [
      "My lucky number is  9\n"
     ]
    }
   ],
   "metadata": {}
  },
  {
   "cell_type": "code",
   "execution_count": 6,
   "source": [
    "num = int(input('Write your lucky number: '))\r\n",
    "print('My lucky number is ' , num)\r\n",
    "# dabar input tekstas bus skaitomas kaip intiger"
   ],
   "outputs": [
    {
     "output_type": "stream",
     "name": "stdout",
     "text": [
      "My lucky number is  12\n"
     ]
    }
   ],
   "metadata": {}
  },
  {
   "cell_type": "code",
   "execution_count": 9,
   "source": [
    "eval('2+3') # It can evaluate even expressions, provided the input is a string"
   ],
   "outputs": [
    {
     "output_type": "execute_result",
     "data": {
      "text/plain": [
       "5"
      ]
     },
     "metadata": {},
     "execution_count": 9
    }
   ],
   "metadata": {}
  },
  {
   "cell_type": "code",
   "execution_count": 13,
   "source": [
    "fee = 4532\r\n",
    "discount_percent = 10\r\n",
    "discount_amount = (discount_percent /100) * fee\r\n",
    "discounted_fee = fee - discount_amount\r\n",
    "print('Fee after discount is', discounted_fee)"
   ],
   "outputs": [
    {
     "output_type": "stream",
     "name": "stdout",
     "text": [
      "Fee after discount is 4078.8\n"
     ]
    }
   ],
   "metadata": {}
  },
  {
   "cell_type": "code",
   "execution_count": null,
   "source": [],
   "outputs": [],
   "metadata": {}
  },
  {
   "cell_type": "code",
   "execution_count": 21,
   "source": [
    "x = 13\r\n",
    "y = 6\r\n",
    "print('x*y = ', x * y )\r\n",
    "# x ** y = 13*13*13*13*13*13\r\n",
    "print('x**y =', x ** y )\r\n",
    "print('x / y =', x / y)\r\n",
    "# x // y  nuima vska po kablelio\r\n",
    "print('x//y =', x // y )\r\n",
    "# x % y palieka tik pirma skaiciu po kablelio????\r\n",
    "print('x % y =', x % y )"
   ],
   "outputs": [
    {
     "output_type": "stream",
     "name": "stdout",
     "text": [
      "x*y =  78\n",
      "x**y = 4826809\n",
      "x / y = 2.1666666666666665\n",
      "x//y = 2\n",
      "x % y = 1\n"
     ]
    }
   ],
   "metadata": {}
  },
  {
   "cell_type": "code",
   "execution_count": 22,
   "source": [
    "x = 5\r\n",
    "y = 9\r\n",
    "# x == y reiskia x = y\r\n",
    "print('x == y is', x == y)\r\n",
    "# x != y reiskia x nelygu y\r\n",
    "print ('x != y is', x != y)"
   ],
   "outputs": [
    {
     "output_type": "stream",
     "name": "stdout",
     "text": [
      "x == y is False\n",
      "x != y is True\n"
     ]
    }
   ],
   "metadata": {}
  },
  {
   "cell_type": "code",
   "execution_count": 25,
   "source": [
    "number = float(input('Enter your number '))\r\n",
    "\r\n",
    "if number > 0:\r\n",
    "    print('The number is positive.')\r\n",
    "elif number < 0:\r\n",
    "    print('The number is negative')\r\n",
    "else:\r\n",
    "    print('The number is 0')"
   ],
   "outputs": [
    {
     "output_type": "stream",
     "name": "stdout",
     "text": [
      "The number is 0\n"
     ]
    }
   ],
   "metadata": {}
  },
  {
   "cell_type": "code",
   "execution_count": 32,
   "source": [
    "number1 = float(input('Enter the number: '))\r\n",
    "\r\n",
    "if number1 >= 0:\r\n",
    "    if number1 == 0:\r\n",
    "        print('Your number is zero')\r\n",
    "    else:\r\n",
    "        print('Your number is positive')\r\n",
    "else:\r\n",
    "    print('Your number is negative')  \r\n",
    "    # Nested if "
   ],
   "outputs": [
    {
     "output_type": "stream",
     "name": "stdout",
     "text": [
      "Your number is positive\n"
     ]
    }
   ],
   "metadata": {}
  },
  {
   "cell_type": "code",
   "execution_count": 33,
   "source": [
    "text = ('weather')\r\n",
    "\r\n",
    "for character in text:\r\n",
    "    print(character)"
   ],
   "outputs": [
    {
     "output_type": "stream",
     "name": "stdout",
     "text": [
      "w\n",
      "e\n",
      "a\n",
      "t\n",
      "h\n",
      "e\n",
      "r\n"
     ]
    }
   ],
   "metadata": {}
  },
  {
   "cell_type": "code",
   "execution_count": 34,
   "source": [
    "number = int(input('Enter the number from 1 to 10'))\r\n",
    "\r\n",
    "for count in range(1, 11):\r\n",
    "    product = number * count\r\n",
    "    print(number, 'x', count, '=', product)"
   ],
   "outputs": [
    {
     "output_type": "stream",
     "name": "stdout",
     "text": [
      "6 x 1 = 6\n",
      "6 x 2 = 12\n",
      "6 x 3 = 18\n",
      "6 x 4 = 24\n",
      "6 x 5 = 30\n",
      "6 x 6 = 36\n",
      "6 x 7 = 42\n",
      "6 x 8 = 48\n",
      "6 x 9 = 54\n",
      "6 x 10 = 60\n"
     ]
    }
   ],
   "metadata": {}
  },
  {
   "cell_type": "code",
   "execution_count": null,
   "source": [],
   "outputs": [],
   "metadata": {}
  }
 ],
 "metadata": {
  "orig_nbformat": 4,
  "language_info": {
   "name": "python",
   "version": "3.9.2",
   "mimetype": "text/x-python",
   "codemirror_mode": {
    "name": "ipython",
    "version": 3
   },
   "pygments_lexer": "ipython3",
   "nbconvert_exporter": "python",
   "file_extension": ".py"
  },
  "kernelspec": {
   "name": "python3",
   "display_name": "Python 3.9.2 64-bit"
  },
  "interpreter": {
   "hash": "28a8d0d51acbb5ec547b80c50a76f865b7f5e8a6e570f781e88891989fcd299d"
  }
 },
 "nbformat": 4,
 "nbformat_minor": 2
}