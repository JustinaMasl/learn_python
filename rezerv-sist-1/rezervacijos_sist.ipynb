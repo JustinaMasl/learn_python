{
 "cells": [
  {
   "cell_type": "markdown",
   "source": [
    "DARBO VIETŲ REZERVAVIMAS"
   ],
   "metadata": {}
  },
  {
   "cell_type": "code",
   "execution_count": 3,
   "source": [
    "class Vieta:\r\n",
    "    def __init__(self, aukstas, kabinetas, darbo_vietos_nr, rezervaves_darb = None, rezervuota_diena = None):\r\n",
    "        self.aukstas = aukstas\r\n",
    "        self.kabinetas = kabinetas\r\n",
    "        self.darbo_vietos_nr = darbo_vietos_nr\r\n",
    "        self.rezervaves_darb = rezervaves_darb\r\n",
    "        self.rezervuota_diena = rezervuota_diena\r\n",
    "\r\n",
    "    def set_rezervaves_darb (self, naujas_rezervaves_darbuotojas, pasirinkta_diena):\r\n",
    "        self.rezervaves_darb = naujas_rezervaves_darbuotojas\r\n",
    "        self.rezervuota_diena = pasirinkta_diena\r\n",
    "\r\n",
    "    def __repr__(self):\r\n",
    "        return f\" (Darbo vietos Nr. {self.darbo_vietos_nr}, kabinetas Nr. {self.kabinetas}, aukštas Nr. {self.aukstas})\""
   ],
   "outputs": [],
   "metadata": {}
  },
  {
   "cell_type": "code",
   "execution_count": 4,
   "source": [
    "from tkinter import Tk, Button, Label\r\n",
    "from tkcalendar import Calendar\r\n",
    "\r\n",
    "class RezervacijosSistema():\r\n",
    "    def __init__(self, pavadinimas):\r\n",
    "        self.pavadinimas = pavadinimas\r\n",
    "        self.darbo_vietos = []\r\n",
    "        \r\n",
    "    def prideti_darbo_vieta(self, darbo_vieta):\r\n",
    "        self.darbo_vietos.append(darbo_vieta)\r\n",
    "\r\n",
    "    def pasalinti_darbo_vieta(self, darbo_vieta_pasalinimui):\r\n",
    "        self.darbo_vietos.remove(darbo_vieta_pasalinimui)\r\n",
    "\r\n",
    "    def rezervuoti_vieta(self, pasirinkta_diena = None):\r\n",
    "        self.pasirinkta_diena = pasirinkta_diena\r\n",
    "        self.naujas_rezervaves_darbuotojas = input('Įrašykite savo vardą, pavardę')\r\n",
    "                      \r\n",
    "        # sukuriamas calendorius, kuriame galima pasirinkti norima rezervuoti dinput('Įrašykite savo vardą, pavardę')ata\r\n",
    "        ws_cal = Tk()\r\n",
    "        ws_cal.title(\"Darbo vietos rezervacijos data\")\r\n",
    "        ws_cal.geometry('400x400')\r\n",
    "        ws_cal.configure(bg=\"cyan\")\r\n",
    "        cal = Calendar(ws_cal, selectmode = \"day\", year = 2021, month = 9)\r\n",
    "        cal.pack(pady=20)\r\n",
    "           \r\n",
    "        def pasirinkti_diena():\r\n",
    "            diena = cal.get_date()\r\n",
    "            if diena is not None:\r\n",
    "                self.pasirinkta_diena = diena\r\n",
    "            else:\r\n",
    "                pasirinkti_diena()\r\n",
    "            return self.pasirinkta_diena, ws_cal.after(1000, lambda:ws_cal.destroy())\r\n",
    "\r\n",
    "        my_btn = Button(ws_cal, text=\"Pasirinkti\", command=pasirinkti_diena)\r\n",
    "        my_btn.pack(pady=20)\r\n",
    "\r\n",
    "        ws_cal.mainloop()\r\n",
    "\r\n",
    "        print (f'{self.naujas_rezervaves_darbuotojas}, Jūsų pasirinkta data yra: {self.pasirinkta_diena}')\r\n",
    "\r\n",
    "        laisva_darbo_vieta = False\r\n",
    "        for vieta in self.darbo_vietos:\r\n",
    "            if vieta.rezervaves_darb is None and self.pasirinkta_diena is not vieta.rezervuota_diena:\r\n",
    "                vieta.set_rezervaves_darb(self.naujas_rezervaves_darbuotojas, self.pasirinkta_diena)\r\n",
    "                laisva_darbo_vieta = True\r\n",
    "                print (f'Jums rezervuota darbo vieta: Nr. {vieta.darbo_vietos_nr}, kabinetas Nr. {vieta.kabinetas}, aukštas Nr. {vieta.aukstas}')\r\n",
    "                break\r\n",
    "        if not laisva_darbo_vieta:\r\n",
    "            print(f'Jūsų pasirinktą dieną laisvų darbo vietų nėra, prašome dirbti nuotoliniu būdu')\r\n",
    "            #kita_diena = input('Jei norite pasirinkti kitą dieną, parašykite \"taip\"').lower()\r\n",
    "            #if kita_diena == \"taip\":\r\n",
    "              #  rezervuoti_vieta()\r\n",
    "            #else:\r\n",
    "                #break\r\n",
    "\r\n",
    "         \r\n"
   ],
   "outputs": [],
   "metadata": {}
  },
  {
   "cell_type": "code",
   "execution_count": 5,
   "source": [
    "# darbo vietų sąrašas\r\n",
    "darbo_vieta_1 = Vieta(1, 101, 1)\r\n",
    "darbo_vieta_2 = Vieta(1, 101, 2)\r\n",
    "darbo_vieta_3 = Vieta(2, 203, 3)\r\n",
    "darbo_vieta_4 = Vieta(3, 321, 4)\r\n",
    "darbo_vieta_5 = Vieta(3, 321, 5)\r\n",
    "darbo_vieta_6 = Vieta(3, 321, 6)\r\n",
    "darbo_vieta_7 = Vieta(4, 412, 7)\r\n",
    "\r\n"
   ],
   "outputs": [],
   "metadata": {}
  },
  {
   "cell_type": "code",
   "execution_count": 6,
   "source": [
    "sistema = RezervacijosSistema(\"Darbo vietų rezervavimo sistema\")\r\n",
    "\r\n",
    "# į RezervacijosSistema sukeliam visas siūlomas darbo vietas\r\n",
    "sistema.prideti_darbo_vieta(darbo_vieta_1)\r\n",
    "sistema.prideti_darbo_vieta(darbo_vieta_2)\r\n",
    "sistema.prideti_darbo_vieta(darbo_vieta_3)\r\n",
    "sistema.prideti_darbo_vieta(darbo_vieta_4)\r\n",
    "sistema.prideti_darbo_vieta(darbo_vieta_5)\r\n",
    "sistema.prideti_darbo_vieta(darbo_vieta_6)\r\n",
    "sistema.prideti_darbo_vieta(darbo_vieta_7)\r\n",
    "\r\n",
    "# atsispausinam visų sistemoje esančių darbo vietų sąrašą\r\n",
    "print (sistema.darbo_vietos)\r\n"
   ],
   "outputs": [
    {
     "output_type": "stream",
     "name": "stdout",
     "text": [
      "[ (Darbo vietos Nr. 1, kabinetas Nr. 101, aukštas Nr. 1),  (Darbo vietos Nr. 2, kabinetas Nr. 101, aukštas Nr. 1),  (Darbo vietos Nr. 3, kabinetas Nr. 203, aukštas Nr. 2),  (Darbo vietos Nr. 4, kabinetas Nr. 321, aukštas Nr. 3),  (Darbo vietos Nr. 5, kabinetas Nr. 321, aukštas Nr. 3),  (Darbo vietos Nr. 6, kabinetas Nr. 321, aukštas Nr. 3),  (Darbo vietos Nr. 7, kabinetas Nr. 412, aukštas Nr. 4)]\n"
     ]
    }
   ],
   "metadata": {}
  },
  {
   "cell_type": "code",
   "execution_count": null,
   "source": [],
   "outputs": [],
   "metadata": {}
  },
  {
   "cell_type": "code",
   "execution_count": 7,
   "source": [
    "# rezervuojame darbo vietą pasirinktai dienai\r\n",
    "sistema.rezervuoti_vieta()\r\n",
    "sistema.rezervuoti_vieta()\r\n",
    "sistema.rezervuoti_vieta()\r\n",
    "sistema.rezervuoti_vieta()\r\n",
    "sistema.rezervuoti_vieta()\r\n",
    "sistema.rezervuoti_vieta()\r\n",
    "sistema.rezervuoti_vieta()\r\n",
    "sistema.rezervuoti_vieta()\r\n"
   ],
   "outputs": [
    {
     "output_type": "stream",
     "name": "stdout",
     "text": [
      "a, Jūsų pasirinkta data yra: 9/6/21\n",
      "Jums rezervuota darbo vieta: Nr. 1, kabinetas Nr. 101, aukštas Nr. 1\n",
      "s, Jūsų pasirinkta data yra: 9/6/21\n",
      "Jums rezervuota darbo vieta: Nr. 2, kabinetas Nr. 101, aukštas Nr. 1\n",
      "d, Jūsų pasirinkta data yra: \n",
      "Jums rezervuota darbo vieta: Nr. 3, kabinetas Nr. 203, aukštas Nr. 2\n",
      "f, Jūsų pasirinkta data yra: 9/6/21\n",
      "Jums rezervuota darbo vieta: Nr. 4, kabinetas Nr. 321, aukštas Nr. 3\n",
      "g, Jūsų pasirinkta data yra: 9/6/21\n",
      "Jums rezervuota darbo vieta: Nr. 5, kabinetas Nr. 321, aukštas Nr. 3\n",
      "h, Jūsų pasirinkta data yra: 9/6/21\n",
      "Jums rezervuota darbo vieta: Nr. 6, kabinetas Nr. 321, aukštas Nr. 3\n",
      "j, Jūsų pasirinkta data yra: 9/6/21\n",
      "Jums rezervuota darbo vieta: Nr. 7, kabinetas Nr. 412, aukštas Nr. 4\n",
      "k, Jūsų pasirinkta data yra: 9/6/21\n",
      "Jūsų pasirinktą dieną laisvų darbo vietų nėra, siūlome dirbti nuotoliniu būdu\n"
     ]
    }
   ],
   "metadata": {}
  },
  {
   "cell_type": "code",
   "execution_count": 8,
   "source": [
    "#import ipywidgets\r\n",
    "\r\n",
    "#date_picker = ipywidgets.DatePicker()\r\n",
    "#date_picker\r\n",
    "\r\n"
   ],
   "outputs": [],
   "metadata": {}
  },
  {
   "cell_type": "code",
   "execution_count": null,
   "source": [],
   "outputs": [],
   "metadata": {}
  },
  {
   "cell_type": "code",
   "execution_count": null,
   "source": [
    "\r\n"
   ],
   "outputs": [],
   "metadata": {}
  }
 ],
 "metadata": {
  "orig_nbformat": 4,
  "language_info": {
   "name": "python",
   "version": "3.9.6",
   "mimetype": "text/x-python",
   "codemirror_mode": {
    "name": "ipython",
    "version": 3
   },
   "pygments_lexer": "ipython3",
   "nbconvert_exporter": "python",
   "file_extension": ".py"
  },
  "kernelspec": {
   "name": "python3",
   "display_name": "Python 3.9.6 64-bit"
  },
  "interpreter": {
   "hash": "1d0febc49e1fc15a3a396940b992e1b6cab9d0e3b3ca076f5f78bec92a9a951d"
  }
 },
 "nbformat": 4,
 "nbformat_minor": 2
}