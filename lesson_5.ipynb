{
 "cells": [
  {
   "cell_type": "code",
   "execution_count": null,
   "source": [
    "# def function_name(arguments):\r\n",
    "gali priimti kitas funkcijas kaip argumentus\r\n",
    "gali grąžinti vertę atgal\r\n",
    "nepakeičia immutable kintamųjų\r\n",
    "gali pakeisti mutable kintamuosius (list_kintamieji ir dictionary_kintamieji)\r\n"
   ],
   "outputs": [],
   "metadata": {}
  },
  {
   "cell_type": "code",
   "execution_count": 8,
   "source": [
    "def func_1(list_1):\r\n",
    "    list_1.append('haha')"
   ],
   "outputs": [],
   "metadata": {}
  },
  {
   "cell_type": "code",
   "execution_count": 9,
   "source": [
    "my_list = [1, 2, 3]\r\n",
    "print(func_1(list_1=my_list))\r\n",
    "print(my_list)"
   ],
   "outputs": [
    {
     "output_type": "stream",
     "name": "stdout",
     "text": [
      "None\n",
      "[1, 2, 3, 'haha']\n"
     ]
    }
   ],
   "metadata": {}
  },
  {
   "cell_type": "code",
   "execution_count": 4,
   "source": [
    "def list_tikrintojas( list_1, list_2):\r\n",
    "   result_dict = dict.fromkeys(set(list_1), 0)\r\n",
    "   for number in set(list_1):\r\n",
    "    result_dict[number] =\r\n",
    "    \r\n",
    "    "
   ],
   "outputs": [],
   "metadata": {}
  },
  {
   "cell_type": "code",
   "execution_count": 10,
   "source": [
    "list_tikrintojas([1,2], [1,1,2,3,3,3,3,1] )\r\n"
   ],
   "outputs": [
    {
     "output_type": "execute_result",
     "data": {
      "text/plain": [
       "{1, 2}"
      ]
     },
     "metadata": {},
     "execution_count": 10
    }
   ],
   "metadata": {}
  },
  {
   "cell_type": "code",
   "execution_count": 14,
   "source": [
    "def anomalijos_tikrintojas(list_1):\r\n",
    "    for n in enumerate(list_1[: -1]): # grąžina ir nario indeksą ir vertę\r\n",
    "        #print(f'indeksas : {n}, verte : {value)})\r\n",
    "        if list_1[n] + 1 == list_1[n + 1]:\r\n",
    "            print(f'Tarp skaiciu {list_1[n]} ir {list_1[n+1]} anomalijos nera')\r\n",
    "        else:\r\n",
    "            print(f'Anomalija yra! Skaiciai {list_1[n]} ir {list_1[n+1]} nera einantys vienas po kito')\r\n",
    "            print(f'Trukstamas skaicius yra {list(range(list_1[n] +1, list_1[n + 1]))}')"
   ],
   "outputs": [],
   "metadata": {}
  },
  {
   "cell_type": "code",
   "execution_count": 15,
   "source": [
    "anomalijos_tikrintojas([17, 18, 19, 21])"
   ],
   "outputs": [
    {
     "output_type": "error",
     "ename": "TypeError",
     "evalue": "list indices must be integers or slices, not tuple",
     "traceback": [
      "\u001b[1;31m---------------------------------------------------------------------------\u001b[0m",
      "\u001b[1;31mTypeError\u001b[0m                                 Traceback (most recent call last)",
      "\u001b[1;32m~\\AppData\\Local\\Temp/ipykernel_19176/1113446455.py\u001b[0m in \u001b[0;36m<module>\u001b[1;34m\u001b[0m\n\u001b[1;32m----> 1\u001b[1;33m \u001b[0manomalijos_tikrintojas\u001b[0m\u001b[1;33m(\u001b[0m\u001b[1;33m[\u001b[0m\u001b[1;36m17\u001b[0m\u001b[1;33m,\u001b[0m \u001b[1;36m18\u001b[0m\u001b[1;33m,\u001b[0m \u001b[1;36m19\u001b[0m\u001b[1;33m,\u001b[0m \u001b[1;36m21\u001b[0m\u001b[1;33m]\u001b[0m\u001b[1;33m)\u001b[0m\u001b[1;33m\u001b[0m\u001b[1;33m\u001b[0m\u001b[0m\n\u001b[0m",
      "\u001b[1;32m~\\AppData\\Local\\Temp/ipykernel_19176/1563268249.py\u001b[0m in \u001b[0;36manomalijos_tikrintojas\u001b[1;34m(list_1)\u001b[0m\n\u001b[0;32m      2\u001b[0m     \u001b[1;32mfor\u001b[0m \u001b[0mn\u001b[0m \u001b[1;32min\u001b[0m \u001b[0menumerate\u001b[0m\u001b[1;33m(\u001b[0m\u001b[0mlist_1\u001b[0m\u001b[1;33m[\u001b[0m\u001b[1;33m:\u001b[0m \u001b[1;33m-\u001b[0m\u001b[1;36m1\u001b[0m\u001b[1;33m]\u001b[0m\u001b[1;33m)\u001b[0m\u001b[1;33m:\u001b[0m \u001b[1;31m# grąžina ir nario indeksą ir vertę\u001b[0m\u001b[1;33m\u001b[0m\u001b[1;33m\u001b[0m\u001b[0m\n\u001b[0;32m      3\u001b[0m         \u001b[1;31m#print(f'indeksas : {n}, verte : {value)})\u001b[0m\u001b[1;33m\u001b[0m\u001b[1;33m\u001b[0m\u001b[1;33m\u001b[0m\u001b[0m\n\u001b[1;32m----> 4\u001b[1;33m         \u001b[1;32mif\u001b[0m \u001b[0mlist_1\u001b[0m\u001b[1;33m[\u001b[0m\u001b[0mn\u001b[0m\u001b[1;33m]\u001b[0m \u001b[1;33m+\u001b[0m \u001b[1;36m1\u001b[0m \u001b[1;33m==\u001b[0m \u001b[0mlist_1\u001b[0m\u001b[1;33m[\u001b[0m\u001b[0mn\u001b[0m \u001b[1;33m+\u001b[0m \u001b[1;36m1\u001b[0m\u001b[1;33m]\u001b[0m\u001b[1;33m:\u001b[0m\u001b[1;33m\u001b[0m\u001b[1;33m\u001b[0m\u001b[0m\n\u001b[0m\u001b[0;32m      5\u001b[0m             \u001b[0mprint\u001b[0m\u001b[1;33m(\u001b[0m\u001b[1;34mf'Tarp skaiciu {list_1[n]} ir {list_1[n+1]} anomalijos nera'\u001b[0m\u001b[1;33m)\u001b[0m\u001b[1;33m\u001b[0m\u001b[1;33m\u001b[0m\u001b[0m\n\u001b[0;32m      6\u001b[0m         \u001b[1;32melse\u001b[0m\u001b[1;33m:\u001b[0m\u001b[1;33m\u001b[0m\u001b[1;33m\u001b[0m\u001b[0m\n",
      "\u001b[1;31mTypeError\u001b[0m: list indices must be integers or slices, not tuple"
     ]
    }
   ],
   "metadata": {}
  },
  {
   "cell_type": "code",
   "execution_count": 31,
   "source": [
    "import random \r\n",
    "\r\n",
    "def spelione(guess_count=3):\r\n",
    "    magic_number = random.randint(1, 10)\r\n",
    "    for guess_number in range(guess_count):\r\n",
    "        guessed_number = int(input('Iveskite skaiciu nuo  iki 10'))\r\n",
    "        if magic_number == guessed_number:\r\n",
    "            print(f'Sveikiname, atspejote skaiciu. Tai buvo {magic_number}')\r\n",
    "            break\r\n",
    "        elif guess_number + 1 < guess_count:\r\n",
    "            print(f'Bandykit dar karta, jums liko {guess_count - guess_number - 1} spejimas')\r\n",
    "        else:\r\n",
    "            print(f'Atspeti nepavyko, skaicius buvo {magic_number}')\r\n",
    "        \r\n"
   ],
   "outputs": [],
   "metadata": {}
  },
  {
   "cell_type": "code",
   "execution_count": 32,
   "source": [
    "while True:\r\n",
    "    spelione()\r\n",
    "    continue_game =input('Jei norite zaisti dar karta parasykite \"Taip\"')\r\n",
    "    if continue_game != \"Taip\":\r\n",
    "        break"
   ],
   "outputs": [
    {
     "output_type": "stream",
     "name": "stdout",
     "text": [
      "Bandykit dar karta, jums liko 2 spejimas\n",
      "Sveikiname, atspejote skaiciu. Tai buvo 9\n",
      "Bandykit dar karta, jums liko 2 spejimas\n",
      "Bandykit dar karta, jums liko 1 spejimas\n",
      "Atspeti nepavyko, skaicius buvo 7\n"
     ]
    }
   ],
   "metadata": {}
  },
  {
   "cell_type": "code",
   "execution_count": 40,
   "source": [
    "import random \r\n",
    "\r\n",
    "def spelione(guess_count=3, max_number = 20):\r\n",
    "    magic_number = random.randint(1, max_number)\r\n",
    "    for guess_number in range(guess_count):\r\n",
    "        guessed_number = int(input('Iveskite skaiciu nuo  iki {max_number}'))\r\n",
    "        if magic_number == guessed_number:\r\n",
    "            print(f'Sveikiname, atspejote skaiciu. Tai buvo {magic_number}')\r\n",
    "            break\r\n",
    "        elif guess_number + 1 < guess_count:\r\n",
    "            print(f'Bandykit dar karta, jums liko {guess_count - guess_number - 1} spejimas')\r\n",
    "            if magic_number - guessed_number > 0:\r\n",
    "                print(f'Skaicius yra didesnis')\r\n",
    "            else:\r\n",
    "                print(f'Skaicius yra mazesnis')\r\n",
    "        else:\r\n",
    "            print(f'Atspeti nepavyko, skaicius buvo {magic_number}')\r\n",
    "\r\n",
    "           \r\n"
   ],
   "outputs": [],
   "metadata": {}
  },
  {
   "cell_type": "code",
   "execution_count": 42,
   "source": [
    "while True:\r\n",
    "    spelione()\r\n",
    "    continue_game = input('Jei norite zaisti dar karta parasykite \"Taip\"')\r\n",
    "    if continue_game != \"Taip\":\r\n",
    "        break  "
   ],
   "outputs": [
    {
     "output_type": "error",
     "ename": "ValueError",
     "evalue": "invalid literal for int() with base 10: ''",
     "traceback": [
      "\u001b[1;31m---------------------------------------------------------------------------\u001b[0m",
      "\u001b[1;31mValueError\u001b[0m                                Traceback (most recent call last)",
      "\u001b[1;32m~\\AppData\\Local\\Temp/ipykernel_19176/718884592.py\u001b[0m in \u001b[0;36m<module>\u001b[1;34m\u001b[0m\n\u001b[0;32m      1\u001b[0m \u001b[1;32mwhile\u001b[0m \u001b[1;32mTrue\u001b[0m\u001b[1;33m:\u001b[0m\u001b[1;33m\u001b[0m\u001b[1;33m\u001b[0m\u001b[0m\n\u001b[1;32m----> 2\u001b[1;33m     \u001b[0mspelione\u001b[0m\u001b[1;33m(\u001b[0m\u001b[1;33m)\u001b[0m\u001b[1;33m\u001b[0m\u001b[1;33m\u001b[0m\u001b[0m\n\u001b[0m\u001b[0;32m      3\u001b[0m     \u001b[0mcontinue_game\u001b[0m \u001b[1;33m=\u001b[0m \u001b[0minput\u001b[0m\u001b[1;33m(\u001b[0m\u001b[1;34m'Jei norite zaisti dar karta parasykite \"Taip\"'\u001b[0m\u001b[1;33m)\u001b[0m\u001b[1;33m\u001b[0m\u001b[1;33m\u001b[0m\u001b[0m\n\u001b[0;32m      4\u001b[0m     \u001b[1;32mif\u001b[0m \u001b[0mcontinue_game\u001b[0m \u001b[1;33m!=\u001b[0m \u001b[1;34m\"Taip\"\u001b[0m\u001b[1;33m:\u001b[0m\u001b[1;33m\u001b[0m\u001b[1;33m\u001b[0m\u001b[0m\n\u001b[0;32m      5\u001b[0m         \u001b[1;32mbreak\u001b[0m\u001b[1;33m\u001b[0m\u001b[1;33m\u001b[0m\u001b[0m\n",
      "\u001b[1;32m~\\AppData\\Local\\Temp/ipykernel_19176/4164232795.py\u001b[0m in \u001b[0;36mspelione\u001b[1;34m(guess_count, max_number)\u001b[0m\n\u001b[0;32m      4\u001b[0m     \u001b[0mmagic_number\u001b[0m \u001b[1;33m=\u001b[0m \u001b[0mrandom\u001b[0m\u001b[1;33m.\u001b[0m\u001b[0mrandint\u001b[0m\u001b[1;33m(\u001b[0m\u001b[1;36m1\u001b[0m\u001b[1;33m,\u001b[0m \u001b[0mmax_number\u001b[0m\u001b[1;33m)\u001b[0m\u001b[1;33m\u001b[0m\u001b[1;33m\u001b[0m\u001b[0m\n\u001b[0;32m      5\u001b[0m     \u001b[1;32mfor\u001b[0m \u001b[0mguess_number\u001b[0m \u001b[1;32min\u001b[0m \u001b[0mrange\u001b[0m\u001b[1;33m(\u001b[0m\u001b[0mguess_count\u001b[0m\u001b[1;33m)\u001b[0m\u001b[1;33m:\u001b[0m\u001b[1;33m\u001b[0m\u001b[1;33m\u001b[0m\u001b[0m\n\u001b[1;32m----> 6\u001b[1;33m         \u001b[0mguessed_number\u001b[0m \u001b[1;33m=\u001b[0m \u001b[0mint\u001b[0m\u001b[1;33m(\u001b[0m\u001b[0minput\u001b[0m\u001b[1;33m(\u001b[0m\u001b[1;34m'Iveskite skaiciu nuo  iki {max_number}'\u001b[0m\u001b[1;33m)\u001b[0m\u001b[1;33m)\u001b[0m\u001b[1;33m\u001b[0m\u001b[1;33m\u001b[0m\u001b[0m\n\u001b[0m\u001b[0;32m      7\u001b[0m         \u001b[1;32mif\u001b[0m \u001b[0mmagic_number\u001b[0m \u001b[1;33m==\u001b[0m \u001b[0mguessed_number\u001b[0m\u001b[1;33m:\u001b[0m\u001b[1;33m\u001b[0m\u001b[1;33m\u001b[0m\u001b[0m\n\u001b[0;32m      8\u001b[0m             \u001b[0mprint\u001b[0m\u001b[1;33m(\u001b[0m\u001b[1;34mf'Sveikiname, atspejote skaiciu. Tai buvo {magic_number}'\u001b[0m\u001b[1;33m)\u001b[0m\u001b[1;33m\u001b[0m\u001b[1;33m\u001b[0m\u001b[0m\n",
      "\u001b[1;31mValueError\u001b[0m: invalid literal for int() with base 10: ''"
     ]
    }
   ],
   "metadata": {}
  },
  {
   "cell_type": "markdown",
   "source": [
    "Global vs local variable"
   ],
   "metadata": {}
  },
  {
   "cell_type": "code",
   "execution_count": 43,
   "source": [
    "some_global_variable = 5\r\n",
    "\r\n",
    "def func_1():\r\n",
    "    print(some_global_variable)\r\n",
    "    local_variable = 'some local variable'\r\n",
    "    print(some_local_variable)"
   ],
   "outputs": [],
   "metadata": {}
  },
  {
   "cell_type": "code",
   "execution_count": 44,
   "source": [
    "geros_prekes = ['morka', 'obuolys', 'bananas', 'pomidoras', 'pienas', 'varske']\r\n",
    "blogos_prekes = ['traskuciai', 'saldainiai', 'energetinis', 'limonadas', 'guminukai']\r\n",
    "\r\n"
   ],
   "outputs": [],
   "metadata": {}
  },
  {
   "cell_type": "code",
   "execution_count": 47,
   "source": [
    "def prekiu_tikrintojas(prekiu_sarasas, sveikos_prekes = geros_prekes, nesveikos_prekes = blogos_prekes):\r\n",
    "    sveiku_prekiu_sarasas = []\r\n",
    "    nesveiku_prekiu_sarasas = []\r\n",
    "    nezinomu_prekiu_sarasas = []\r\n",
    "\r\n",
    "    for preke in prekiu_sarasas:\r\n",
    "        if preke in sveikos_prekes:\r\n",
    "            sveiku_prekiu_sarasas.append(preke)\r\n",
    "        elif preke in nesveikos_prekes:\r\n",
    "            nesveiku_prekiu_sarasas.append(preke)\r\n",
    "        else:\r\n",
    "            nezinomu_prekiu_sarasas.append(preke)\r\n",
    "    print(f'Geros prekes: {sveiku_prekiu_sarasas}')\r\n",
    "    print(f'Blogos prekes: {nesveiku_prekiu_sarasas}')\r\n",
    "    print(f'Be informacijos: {nezinomu_prekiu_sarasas}')\r\n",
    "\r\n"
   ],
   "outputs": [],
   "metadata": {}
  },
  {
   "cell_type": "code",
   "execution_count": 48,
   "source": [
    "prekiu_sarasas = ['bananas', 'pienas', 'traskuciai', 'agurkas', 'morka']"
   ],
   "outputs": [],
   "metadata": {}
  },
  {
   "cell_type": "code",
   "execution_count": 49,
   "source": [
    "prekiu_tikrintojas(prekiu_sarasas)"
   ],
   "outputs": [
    {
     "output_type": "stream",
     "name": "stdout",
     "text": [
      "Geros prekes: ['bananas', 'pienas', 'morka']\n",
      "Blogos prekes: ['traskuciai']\n",
      "Be informacijos: ['agurkas']\n"
     ]
    }
   ],
   "metadata": {}
  },
  {
   "cell_type": "code",
   "execution_count": 5,
   "source": [
    "geros_prekes = ['morka', 'obuolys', 'bananas', 'pomidoras', 'pienas', 'varske']\r\n",
    "blogos_prekes = ['traskuciai', 'saldainiai', 'energetinis', 'limonadas', 'guminukai']\r\n",
    "\r\n",
    "prekiu_gerumas = {\r\n",
    "    'morka': 0.9,\r\n",
    "    'obuolys': 0.8,\r\n",
    "    'bananas': 0.7,\r\n",
    "    'pomidoras': 0.7,\r\n",
    "    'pienas':0.5,\r\n",
    "    'varske':0.6,\r\n",
    "    'traskuciai': -0.8,\r\n",
    "    'saldainiai': -0.7,\r\n",
    "    'energetinis': -1,\r\n",
    "    'limonadas': -0.5,\r\n",
    "    'guminukai': -0.6\r\n",
    "}"
   ],
   "outputs": [],
   "metadata": {}
  },
  {
   "cell_type": "code",
   "execution_count": 4,
   "source": [
    "def prekiu_tikrintojas(prekiu_sarasas, prekes, prekiu_gerumas):\r\n",
    "    sveiku_prekiu_sarasas = []\r\n",
    "    nesveiku_prekiu_sarasas = []\r\n",
    "    nezinomu_prekiu_sarasas = []\r\n",
    "    suma = 0\r\n",
    "\r\n",
    "    for preke in prekiu_sarasas:\r\n",
    "        if preke in prekes.keys:\r\n",
    "            if prekes[preke] >= 0:\r\n",
    "                sveiku_prekiu_sarasas.append(preke)\r\n",
    "            else:\r\n",
    "                nesveiku_prekiu_sarasas.append(preke)\r\n",
    "        else:\r\n",
    "            nezinomu_prekiu_sarasas.append(preke)\r\n",
    "    prekiu_gerumo_koeficientas = suma / (len(sveiku_prekiu_sarasas) + len(nesveiku_prekiu_sarasas))\r\n",
    "    print(f'Geros prekes: {sveiku_prekiu_sarasas}')\r\n",
    "    print(f'Blogos prekes: {nesveiku_prekiu_sarasas}')\r\n",
    "    print(f'Be informacijos: {nezinomu_prekiu_sarasas}')\r\n",
    "    print(f'Krepselio gerumo koeficientas: {prekiu_gerumo_koeficientas}')"
   ],
   "outputs": [],
   "metadata": {}
  },
  {
   "cell_type": "code",
   "execution_count": null,
   "source": [],
   "outputs": [],
   "metadata": {}
  }
 ],
 "metadata": {
  "orig_nbformat": 4,
  "language_info": {
   "name": "python",
   "version": "3.9.6",
   "mimetype": "text/x-python",
   "codemirror_mode": {
    "name": "ipython",
    "version": 3
   },
   "pygments_lexer": "ipython3",
   "nbconvert_exporter": "python",
   "file_extension": ".py"
  },
  "kernelspec": {
   "name": "python3",
   "display_name": "Python 3.9.6 64-bit"
  },
  "interpreter": {
   "hash": "1d0febc49e1fc15a3a396940b992e1b6cab9d0e3b3ca076f5f78bec92a9a951d"
  }
 },
 "nbformat": 4,
 "nbformat_minor": 2
}