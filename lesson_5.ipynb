{
 "cells": [
  {
   "cell_type": "code",
   "execution_count": null,
   "source": [
    "# def function_name(arguments):\r\n",
    "gali priimti kitas funkcijas kaip argumentus\r\n",
    "gali grąžinti vertę atgal\r\n",
    "nepakeičia immutable kintamųjų\r\n",
    "gali pakeisti mutable kintamuosius (list_kintamieji ir dictionary_kintamieji)\r\n"
   ],
   "outputs": [],
   "metadata": {}
  },
  {
   "cell_type": "code",
   "execution_count": 8,
   "source": [
    "def func_1(list_1):\r\n",
    "    list_1.append('haha')"
   ],
   "outputs": [],
   "metadata": {}
  },
  {
   "cell_type": "code",
   "execution_count": 9,
   "source": [
    "my_list = [1, 2, 3]\r\n",
    "print(func_1(list_1=my_list))\r\n",
    "print(my_list)"
   ],
   "outputs": [
    {
     "output_type": "stream",
     "name": "stdout",
     "text": [
      "None\n",
      "[1, 2, 3, 'haha']\n"
     ]
    }
   ],
   "metadata": {}
  },
  {
   "cell_type": "code",
   "execution_count": 4,
   "source": [
    "def list_tikrintojas( list_1, list_2):\r\n",
    "   result_dict = dict.fromkeys(set(list_1), 0)\r\n",
    "       for number in set(list_1):\r\n",
    "    \r\n",
    "    \r\n",
    "    "
   ],
   "outputs": [],
   "metadata": {}
  },
  {
   "cell_type": "code",
   "execution_count": 7,
   "source": [
    "list_tikrintojas([1,2], [1,1,2,3,3,3,3,1] )\r\n"
   ],
   "outputs": [
    {
     "output_type": "execute_result",
     "data": {
      "text/plain": [
       "{1, 2}"
      ]
     },
     "metadata": {},
     "execution_count": 7
    }
   ],
   "metadata": {}
  }
 ],
 "metadata": {
  "orig_nbformat": 4,
  "language_info": {
   "name": "python",
   "version": "3.9.6",
   "mimetype": "text/x-python",
   "codemirror_mode": {
    "name": "ipython",
    "version": 3
   },
   "pygments_lexer": "ipython3",
   "nbconvert_exporter": "python",
   "file_extension": ".py"
  },
  "kernelspec": {
   "name": "python3",
   "display_name": "Python 3.9.6 64-bit"
  },
  "interpreter": {
   "hash": "1d0febc49e1fc15a3a396940b992e1b6cab9d0e3b3ca076f5f78bec92a9a951d"
  }
 },
 "nbformat": 4,
 "nbformat_minor": 2
}