{
 "cells": [
  {
   "cell_type": "code",
   "execution_count": 14,
   "source": [
    "class Pipe:\r\n",
    "    def __init__(self, diameter, crossection_type='round'):\r\n",
    "        self.diameter=diameter\r\n",
    "        self.crossection_type=crossection_type\r\n",
    "\r\n",
    "    def cross_section(self):\r\n",
    "        area = None\r\n",
    "        if self.crossection_type == 'round':\r\n",
    "            area = 3.14 * (self.diameter / 2) ** 2\r\n",
    "        else:\r\n",
    "            raise NotImplementedError\r\n",
    "        return area  \r\n",
    "\r\n",
    "    def flow_rate(self, velocity):\r\n",
    "        return self.cross_section() * velocity\r\n",
    "\r\n",
    "    def __str__(self):\r\n",
    "        return f\"pipe of type '{self.crossection_type}' and diameter {self.diameter}\"\r\n",
    "        \r\n"
   ],
   "outputs": [],
   "metadata": {}
  },
  {
   "cell_type": "code",
   "execution_count": 15,
   "source": [
    "pipe_1 = Pipe(3)\r\n",
    "pipe_2 = Pipe(5)\r\n",
    "print(pipe_1)\r\n",
    "print(\"pipe 1 diameter\", pipe_1.diameter)\r\n",
    "print(\"pipe 2 diameter\", pipe_2.diameter)\r\n",
    "print(\"pipe 1 crossection area:\", pipe_1.cross_section())\r\n",
    "print(\"pipe 2 crossection area:\", pipe_2.cross_section())\r\n",
    "print(\"pipe 1 flow rate\", pipe_1.flow_rate(3))\r\n",
    "print(\"pipe 2 flow rate\", pipe_2.flow_rate(3))\r\n"
   ],
   "outputs": [
    {
     "output_type": "stream",
     "name": "stdout",
     "text": [
      "pipe of type 'round' and diameter 3\n",
      "pipe 1 diameter 3\n",
      "pipe 2 diameter 5\n",
      "pipe 1 crossection area: 7.065\n",
      "pipe 2 crossection area: 19.625\n",
      "pipe 1 flow rate 21.195\n",
      "pipe 2 flow rate 58.875\n"
     ]
    }
   ],
   "metadata": {}
  },
  {
   "cell_type": "markdown",
   "source": [
    "CLASS INHERITANCE (PAVELDEJIMAS)"
   ],
   "metadata": {}
  },
  {
   "cell_type": "code",
   "execution_count": null,
   "source": [
    "class Pipe:\r\n",
    "    def __init__(self):\r\n",
    "        pass\r\n",
    "\r\n",
    "    def cross_section(self):\r\n",
    "        raise NotImplementedError\r\n",
    "        return area  \r\n",
    "\r\n",
    "    def flow_rate(self, velocity):\r\n",
    "        return self.cross_section() * velocity\r\n"
   ],
   "outputs": [],
   "metadata": {}
  },
  {
   "cell_type": "code",
   "execution_count": 17,
   "source": [
    "class SquarePipe(Pipe):\r\n",
    "    def __init__(self, width, height):\r\n",
    "        super().__init__()  # super() gets Pipe and runs it __init__ method\r\n",
    "        self.width = width    #savybe / attributes\r\n",
    "        self.height = height\r\n",
    "\r\n",
    "    def cross_section(self):   # metodas / methods\r\n",
    "        return self.width * self.height\r\n"
   ],
   "outputs": [],
   "metadata": {}
  },
  {
   "cell_type": "code",
   "execution_count": 19,
   "source": [
    "class RoundPipe(Pipe):\r\n",
    "    def __init__(self, radius):\r\n",
    "        super().__init__()  # super() gets Pipe and runs it __init__ method\r\n",
    "        self.radius = radius\r\n",
    "\r\n",
    "    def cross_section(self):\r\n",
    "        return 3.14 * self.radius ** 2"
   ],
   "outputs": [],
   "metadata": {}
  },
  {
   "cell_type": "code",
   "execution_count": 20,
   "source": [
    "Square_pipe_1 = SquarePipe(4, 3)\r\n",
    "Square_pipe_1.flow_rate(3)"
   ],
   "outputs": [
    {
     "output_type": "error",
     "ename": "TypeError",
     "evalue": "__init__() missing 1 required positional argument: 'diameter'",
     "traceback": [
      "\u001b[1;31m---------------------------------------------------------------------------\u001b[0m",
      "\u001b[1;31mTypeError\u001b[0m                                 Traceback (most recent call last)",
      "\u001b[1;32m~\\AppData\\Local\\Temp/ipykernel_20832/1337878258.py\u001b[0m in \u001b[0;36m<module>\u001b[1;34m\u001b[0m\n\u001b[1;32m----> 1\u001b[1;33m \u001b[0mSquare_pipe_1\u001b[0m \u001b[1;33m=\u001b[0m \u001b[0mSquarePipe\u001b[0m\u001b[1;33m(\u001b[0m\u001b[1;36m4\u001b[0m\u001b[1;33m,\u001b[0m \u001b[1;36m3\u001b[0m\u001b[1;33m)\u001b[0m\u001b[1;33m\u001b[0m\u001b[1;33m\u001b[0m\u001b[0m\n\u001b[0m\u001b[0;32m      2\u001b[0m \u001b[0mSquare_pipe_1\u001b[0m\u001b[1;33m.\u001b[0m\u001b[0mflow_rate\u001b[0m\u001b[1;33m(\u001b[0m\u001b[1;36m3\u001b[0m\u001b[1;33m)\u001b[0m\u001b[1;33m\u001b[0m\u001b[1;33m\u001b[0m\u001b[0m\n",
      "\u001b[1;32m~\\AppData\\Local\\Temp/ipykernel_20832/1920272540.py\u001b[0m in \u001b[0;36m__init__\u001b[1;34m(self, width, height)\u001b[0m\n\u001b[0;32m      1\u001b[0m \u001b[1;32mclass\u001b[0m \u001b[0mSquarePipe\u001b[0m\u001b[1;33m(\u001b[0m\u001b[0mPipe\u001b[0m\u001b[1;33m)\u001b[0m\u001b[1;33m:\u001b[0m\u001b[1;33m\u001b[0m\u001b[1;33m\u001b[0m\u001b[0m\n\u001b[0;32m      2\u001b[0m     \u001b[1;32mdef\u001b[0m \u001b[0m__init__\u001b[0m\u001b[1;33m(\u001b[0m\u001b[0mself\u001b[0m\u001b[1;33m,\u001b[0m \u001b[0mwidth\u001b[0m\u001b[1;33m,\u001b[0m \u001b[0mheight\u001b[0m\u001b[1;33m)\u001b[0m\u001b[1;33m:\u001b[0m\u001b[1;33m\u001b[0m\u001b[1;33m\u001b[0m\u001b[0m\n\u001b[1;32m----> 3\u001b[1;33m         \u001b[0msuper\u001b[0m\u001b[1;33m(\u001b[0m\u001b[1;33m)\u001b[0m\u001b[1;33m.\u001b[0m\u001b[0m__init__\u001b[0m\u001b[1;33m(\u001b[0m\u001b[1;33m)\u001b[0m  \u001b[1;31m# super() gets Pipe and runs it __init__ method\u001b[0m\u001b[1;33m\u001b[0m\u001b[1;33m\u001b[0m\u001b[0m\n\u001b[0m\u001b[0;32m      4\u001b[0m         \u001b[0mself\u001b[0m\u001b[1;33m.\u001b[0m\u001b[0mwidth\u001b[0m \u001b[1;33m=\u001b[0m \u001b[0mwidth\u001b[0m\u001b[1;33m\u001b[0m\u001b[1;33m\u001b[0m\u001b[0m\n\u001b[0;32m      5\u001b[0m         \u001b[0mself\u001b[0m\u001b[1;33m.\u001b[0m\u001b[0mheight\u001b[0m \u001b[1;33m=\u001b[0m \u001b[0mheight\u001b[0m\u001b[1;33m\u001b[0m\u001b[1;33m\u001b[0m\u001b[0m\n",
      "\u001b[1;31mTypeError\u001b[0m: __init__() missing 1 required positional argument: 'diameter'"
     ]
    }
   ],
   "metadata": {}
  },
  {
   "cell_type": "code",
   "execution_count": null,
   "source": [
    "Round_pipe_1 = RoundPipe(4, 3)\r\n",
    "Round_pipe_1.flow_rate(3)"
   ],
   "outputs": [],
   "metadata": {}
  },
  {
   "cell_type": "code",
   "execution_count": 59,
   "source": [
    "class Knyga:\r\n",
    "    def __init__(self, pavadinimas, autorius, metai, puslapiu_kiekis, savininkas=None, grazinimo_terminas=None):\r\n",
    "        self.pavadinimas = pavadinimas\r\n",
    "        self.autorius = autorius\r\n",
    "        self.metai = metai\r\n",
    "        self.puslapiu_kiekis = puslapiu_kiekis\r\n",
    "        self.savininkas = savininkas\r\n",
    "        self.grazinimo_terminas = grazinimo_terminas\r\n",
    "\r\n",
    "    def set_savininkas(self, naujas_savininkas):\r\n",
    "        self.savininkas = naujas_savininkas\r\n",
    "\r\n",
    "    def __eq__(self, kita_knyga):\r\n",
    "        return self.pavadinimas == kita_knyga.pavadinimas and self.autorius == kita_knyga.autorius and self.metai ==kita_knyga.metai \r\n",
    "\r\n",
    "    def __repr__(self):\r\n",
    "        return f\"\"\" '{self.pavadinimas}, {self.autorius}, {self.metai}' \"\"\""
   ],
   "outputs": [],
   "metadata": {}
  },
  {
   "cell_type": "code",
   "execution_count": 60,
   "source": [
    "import datetime\r\n",
    "class Biblioteka:\r\n",
    "    def __init__(self, pavadinimas):\r\n",
    "        self.pavadinimas = pavadinimas\r\n",
    "        self.knygos = []\r\n",
    "\r\n",
    "    def prideti_knyga(self, knyga):\r\n",
    "        self.knygos.append(knyga)\r\n",
    "\r\n",
    "    def pasalinti_knyga(self, knyga_pasalinimui):\r\n",
    "         self.knygos.remove(knyga_pasalinimui)\r\n",
    "       # for idx in enumerate (self.knygos):\r\n",
    "           # if knyga.pavadinimas == knyga_pasalinimui.pavadinimas:\r\n",
    "               # self.knygos.remove()\r\n",
    "\r\n",
    "    def paskolinti_knyga(self, knygos_pavadinimas, vartotojas):\r\n",
    "        laisva_knyga_rasta = False\r\n",
    "\r\n",
    "        for knyga in self.knygos:\r\n",
    "            if knyga.pavadinimas ==knygos_pavadinimas and knyga.savininkas is None:\r\n",
    "                # knyga.savininkas = vartotojas # geriau nenaudoti\r\n",
    "                terminas = datetime.date.today +datetime.timedelta(weeks=4)\r\n",
    "                knyga.set_savininkas(vartotojas, terminas)\r\n",
    "                laisva_knyga_rasta = True\r\n",
    "                break\r\n",
    "        if not laisva_knyga_rasta:\r\n",
    "            print(f\" Knyga pavadinimu{knygos_pavadinimas} nerasta bibliotekoje\")\r\n",
    "\r\n",
    "    def knygu_laisvumas(self):\r\n",
    "        for knyga in self.knygos:\r\n",
    "            print(f\"{knyga.pavadinimas} - {knyga.savininkas if knyga.savininkas else 'laisva'}\")                \r\n",
    "\r\n"
   ],
   "outputs": [],
   "metadata": {}
  },
  {
   "cell_type": "code",
   "execution_count": 61,
   "source": [
    "knyga_1 = Knyga('knyga_1', 'Kazkoks zymus zmogus', 1843, 576)\r\n",
    "knyga_2 = Knyga('knyga_1', 'Kazkoks zymus zmogus', 1843, 576)\r\n",
    "knyga_3 = Knyga('knyga_2', 'Kitas zmogus', 1923, 547)\r\n"
   ],
   "outputs": [],
   "metadata": {}
  },
  {
   "cell_type": "code",
   "execution_count": 62,
   "source": [
    "mano_biblioteka = Biblioteka('Dariaus biblioteka')\r\n",
    "mano_biblioteka.prideti_knyga(knyga_1)\r\n",
    "mano_biblioteka.prideti_knyga(knyga_2)\r\n",
    "mano_biblioteka.prideti_knyga(knyga_3)\r\n",
    "\r\n",
    "print(mano_biblioteka.knygos)\r\n"
   ],
   "outputs": [
    {
     "output_type": "stream",
     "name": "stdout",
     "text": [
      "[ 'knyga_1, Kazkoks zymus zmogus, 1843' ,  'knyga_1, Kazkoks zymus zmogus, 1843' ,  'knyga_2, Kitas zmogus, 1923' ]\n"
     ]
    }
   ],
   "metadata": {}
  },
  {
   "cell_type": "code",
   "execution_count": null,
   "source": [],
   "outputs": [],
   "metadata": {}
  }
 ],
 "metadata": {
  "orig_nbformat": 4,
  "language_info": {
   "name": "python",
   "version": "3.9.6",
   "mimetype": "text/x-python",
   "codemirror_mode": {
    "name": "ipython",
    "version": 3
   },
   "pygments_lexer": "ipython3",
   "nbconvert_exporter": "python",
   "file_extension": ".py"
  },
  "kernelspec": {
   "name": "python3",
   "display_name": "Python 3.9.6 64-bit"
  },
  "interpreter": {
   "hash": "1d0febc49e1fc15a3a396940b992e1b6cab9d0e3b3ca076f5f78bec92a9a951d"
  }
 },
 "nbformat": 4,
 "nbformat_minor": 2
}