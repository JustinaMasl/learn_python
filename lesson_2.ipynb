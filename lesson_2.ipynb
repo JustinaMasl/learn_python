{
 "cells": [
  {
   "cell_type": "code",
   "execution_count": 1,
   "source": [
    "groceries = ['aple' , 'bananas' , 'juice']"
   ],
   "outputs": [],
   "metadata": {}
  },
  {
   "cell_type": "code",
   "execution_count": 2,
   "source": [
    "groceries[1]"
   ],
   "outputs": [
    {
     "output_type": "execute_result",
     "data": {
      "text/plain": [
       "'bananas'"
      ]
     },
     "metadata": {},
     "execution_count": 2
    }
   ],
   "metadata": {}
  },
  {
   "cell_type": "code",
   "execution_count": 4,
   "source": [
    "len(groceries)"
   ],
   "outputs": [
    {
     "output_type": "execute_result",
     "data": {
      "text/plain": [
       "3"
      ]
     },
     "metadata": {},
     "execution_count": 4
    }
   ],
   "metadata": {}
  },
  {
   "cell_type": "code",
   "execution_count": 5,
   "source": [
    "groceries.append('bread')"
   ],
   "outputs": [],
   "metadata": {}
  },
  {
   "cell_type": "code",
   "execution_count": 6,
   "source": [
    "print(groceries)"
   ],
   "outputs": [
    {
     "output_type": "stream",
     "name": "stdout",
     "text": [
      "['aple', 'bananas', 'juice', 'bread']\n"
     ]
    }
   ],
   "metadata": {}
  },
  {
   "cell_type": "code",
   "execution_count": 7,
   "source": [
    "groceries = groceries + ['milk']"
   ],
   "outputs": [],
   "metadata": {}
  },
  {
   "cell_type": "code",
   "execution_count": 10,
   "source": [
    "groceries = groceries * 2\r\n",
    "print (groceries)"
   ],
   "outputs": [
    {
     "output_type": "stream",
     "name": "stdout",
     "text": [
      "['aple', 'bananas', 'juice', 'bread', 'milk', 'aple', 'bananas', 'juice', 'bread', 'milk', 'aple', 'bananas', 'juice', 'bread', 'milk', 'aple', 'bananas', 'juice', 'bread', 'milk']\n"
     ]
    }
   ],
   "metadata": {}
  },
  {
   "cell_type": "code",
   "execution_count": 12,
   "source": [
    "len(groceries)"
   ],
   "outputs": [
    {
     "output_type": "execute_result",
     "data": {
      "text/plain": [
       "20"
      ]
     },
     "metadata": {},
     "execution_count": 12
    }
   ],
   "metadata": {}
  },
  {
   "cell_type": "code",
   "execution_count": 14,
   "source": [
    "groceries [10:17:3]"
   ],
   "outputs": [
    {
     "output_type": "execute_result",
     "data": {
      "text/plain": [
       "['aple', 'bread', 'bananas']"
      ]
     },
     "metadata": {},
     "execution_count": 14
    }
   ],
   "metadata": {}
  },
  {
   "cell_type": "code",
   "execution_count": 15,
   "source": [
    "'cheese' in groceries"
   ],
   "outputs": [
    {
     "output_type": "execute_result",
     "data": {
      "text/plain": [
       "False"
      ]
     },
     "metadata": {},
     "execution_count": 15
    }
   ],
   "metadata": {}
  },
  {
   "cell_type": "code",
   "execution_count": 16,
   "source": [
    "'milk' in groceries"
   ],
   "outputs": [
    {
     "output_type": "execute_result",
     "data": {
      "text/plain": [
       "True"
      ]
     },
     "metadata": {},
     "execution_count": 16
    }
   ],
   "metadata": {}
  },
  {
   "cell_type": "code",
   "execution_count": 17,
   "source": [
    "groceries.count('bread')"
   ],
   "outputs": [
    {
     "output_type": "execute_result",
     "data": {
      "text/plain": [
       "4"
      ]
     },
     "metadata": {},
     "execution_count": 17
    }
   ],
   "metadata": {}
  },
  {
   "cell_type": "code",
   "execution_count": 20,
   "source": [
    "print (groceries)\r\n",
    "groceries.index('bread')"
   ],
   "outputs": [
    {
     "output_type": "stream",
     "name": "stdout",
     "text": [
      "['aple', 'bananas', 'juice', 'bread', 'milk', 'aple', 'bananas', 'juice', 'bread', 'milk', 'aple', 'bananas', 'juice', 'bread', 'milk', 'aple', 'bananas', 'juice', 'bread', 'milk']\n"
     ]
    },
    {
     "output_type": "execute_result",
     "data": {
      "text/plain": [
       "3"
      ]
     },
     "metadata": {},
     "execution_count": 20
    }
   ],
   "metadata": {}
  },
  {
   "cell_type": "code",
   "execution_count": 25,
   "source": [
    "list_1 =[1, '2' , 3]\r\n",
    "list_2 = [4 , 5, 6]\r\n",
    "list_1.append(list_2) # pasiziuret\r\n",
    "list_1.extend(list_2)\r\n",
    "print(list_1)"
   ],
   "outputs": [
    {
     "output_type": "stream",
     "name": "stdout",
     "text": [
      "[1, '2', 3, [4, 5, 6], 4, 5, 6]\n"
     ]
    }
   ],
   "metadata": {}
  },
  {
   "cell_type": "code",
   "execution_count": 23,
   "source": [
    "list_3 = [1561, 110, 14, 5, 1, 7]\r\n",
    "print(list_3)\r\n",
    "list_3.sort(reverse=True)\r\n",
    "print(list_3)"
   ],
   "outputs": [
    {
     "output_type": "stream",
     "name": "stdout",
     "text": [
      "[1561, 110, 14, 5, 1, 7]\n",
      "[1561, 110, 14, 7, 5, 1]\n"
     ]
    }
   ],
   "metadata": {}
  },
  {
   "cell_type": "code",
   "execution_count": 29,
   "source": [
    "list_3.pop((2))"
   ],
   "outputs": [
    {
     "output_type": "execute_result",
     "data": {
      "text/plain": [
       "1"
      ]
     },
     "metadata": {},
     "execution_count": 29
    }
   ],
   "metadata": {}
  },
  {
   "cell_type": "code",
   "execution_count": 30,
   "source": [
    "print(list_3.remove(5))\r\n"
   ],
   "outputs": [
    {
     "output_type": "error",
     "ename": "ValueError",
     "evalue": "list.remove(x): x not in list",
     "traceback": [
      "\u001b[1;31m---------------------------------------------------------------------------\u001b[0m",
      "\u001b[1;31mValueError\u001b[0m                                Traceback (most recent call last)",
      "\u001b[1;32mC:\\Users\\MOKYTO~1\\AppData\\Local\\Temp/ipykernel_7104/2015907772.py\u001b[0m in \u001b[0;36m<module>\u001b[1;34m\u001b[0m\n\u001b[1;32m----> 1\u001b[1;33m \u001b[0mprint\u001b[0m\u001b[1;33m(\u001b[0m\u001b[0mlist_3\u001b[0m\u001b[1;33m.\u001b[0m\u001b[0mremove\u001b[0m\u001b[1;33m(\u001b[0m\u001b[1;36m5\u001b[0m\u001b[1;33m)\u001b[0m\u001b[1;33m)\u001b[0m\u001b[1;33m\u001b[0m\u001b[1;33m\u001b[0m\u001b[0m\n\u001b[0m",
      "\u001b[1;31mValueError\u001b[0m: list.remove(x): x not in list"
     ]
    }
   ],
   "metadata": {}
  },
  {
   "cell_type": "code",
   "execution_count": 32,
   "source": [
    "# mutable and unmutable\r\n",
    "number_1 = 5\r\n",
    "number_2 = number_1\r\n",
    "print (id(number_1) )\r\n",
    "print(id(number_2))\r\n",
    "number_2 = 10\r\n",
    "print('after')\r\n",
    "print (id(number_1) )\r\n",
    "print(id(number_2))"
   ],
   "outputs": [
    {
     "output_type": "stream",
     "name": "stdout",
     "text": [
      "230530181552\n",
      "230530181552\n",
      "after\n",
      "230530181552\n",
      "230530181712\n"
     ]
    }
   ],
   "metadata": {}
  },
  {
   "cell_type": "code",
   "execution_count": 34,
   "source": [
    "list_1 = [5, 2, 3]\r\n",
    "list_2 = list_1\r\n",
    "print (id(list_1) )\r\n",
    "print(id(list_2))\r\n",
    "list_2.append(10)\r\n",
    "print('after')\r\n",
    "print (id(number_1) )\r\n",
    "print(id(number_2))\r\n",
    "print(list_1)\r\n",
    "print(list_2)"
   ],
   "outputs": [
    {
     "output_type": "stream",
     "name": "stdout",
     "text": [
      "230650171904\n",
      "230650171904\n",
      "after\n",
      "230530181552\n",
      "230530181712\n",
      "[5, 2, 3, 10]\n",
      "[5, 2, 3, 10]\n"
     ]
    }
   ],
   "metadata": {}
  },
  {
   "cell_type": "code",
   "execution_count": null,
   "source": [
    "# how to fix this problem\r\n",
    "list_2 = list_1.copy #netinka jei yra sarasas sarase\r\n",
    "# safest way\r\n",
    "import copy\r\n",
    "list_2 = copy.deepcopy(list_1)"
   ],
   "outputs": [],
   "metadata": {}
  },
  {
   "cell_type": "code",
   "execution_count": null,
   "source": [
    "_private_number # draugi6kai nurodo kitam =mogui, kad jis neturetu naudoti sio kintamojo (kaip ir private), bet techni6kai jokiu draudimu neuzdeda"
   ],
   "outputs": [],
   "metadata": {}
  },
  {
   "cell_type": "code",
   "execution_count": null,
   "source": [
    "nested_list = [1, 10, 50 [1, [[[[[5]]]]]]], 2 ]]\r\n",
    "nested_list[3][1][0][0][0][0][0][0]"
   ],
   "outputs": [],
   "metadata": {}
  },
  {
   "cell_type": "code",
   "execution_count": 39,
   "source": [
    "# Tuple\r\n",
    "tuple_1 = (1, 2, 3)\r\n",
    "tuple_2 = ([ 51, 1], 'a', 3)"
   ],
   "outputs": [],
   "metadata": {}
  },
  {
   "cell_type": "code",
   "execution_count": 40,
   "source": [
    "tuple_3 = tuple_1 + tuple_2\r\n",
    "print (tuple_3)"
   ],
   "outputs": [
    {
     "output_type": "stream",
     "name": "stdout",
     "text": [
      "(1, 2, 3, [51, 1], 'a', 3)\n"
     ]
    }
   ],
   "metadata": {}
  },
  {
   "cell_type": "code",
   "execution_count": 41,
   "source": [
    "len(tuple_3)"
   ],
   "outputs": [
    {
     "output_type": "execute_result",
     "data": {
      "text/plain": [
       "6"
      ]
     },
     "metadata": {},
     "execution_count": 41
    }
   ],
   "metadata": {}
  },
  {
   "cell_type": "code",
   "execution_count": 43,
   "source": [
    "'0' in tuple_3"
   ],
   "outputs": [
    {
     "output_type": "execute_result",
     "data": {
      "text/plain": [
       "False"
      ]
     },
     "metadata": {},
     "execution_count": 43
    }
   ],
   "metadata": {}
  },
  {
   "cell_type": "code",
   "execution_count": null,
   "source": [
    "my_tuple = (1, 2, ['3, 4, 5'])"
   ],
   "outputs": [],
   "metadata": {}
  },
  {
   "cell_type": "code",
   "execution_count": 44,
   "source": [
    "list_1 = [1, 2, 3]\r\n",
    "print(list_1)\r\n",
    "list_1[1] = 5\r\n",
    "print(list_1)"
   ],
   "outputs": [
    {
     "output_type": "stream",
     "name": "stdout",
     "text": [
      "[1, 2, 3]\n",
      "[1, 5, 3]\n"
     ]
    }
   ],
   "metadata": {}
  },
  {
   "cell_type": "code",
   "execution_count": 45,
   "source": [
    "# tuple sud4tingiau pakeisti reiksmes nei list\r\n",
    "tuple_1 = [1, 2, 3]\r\n",
    "print(tuple_1)\r\n",
    "tuple_1[1] = 5\r\n",
    "print(list_1)"
   ],
   "outputs": [
    {
     "output_type": "stream",
     "name": "stdout",
     "text": [
      "[1, 2, 3]\n",
      "[1, 5, 3]\n"
     ]
    }
   ],
   "metadata": {}
  },
  {
   "cell_type": "code",
   "execution_count": 47,
   "source": [
    "tuple_1 = (11, [222, 33], 44, 55)\r\n",
    "tuple_1[1][1] =22\r\n",
    "print (tuple_1)"
   ],
   "outputs": [
    {
     "output_type": "stream",
     "name": "stdout",
     "text": [
      "(11, [222, 22], 44, 55)\n"
     ]
    }
   ],
   "metadata": {}
  },
  {
   "cell_type": "code",
   "execution_count": 48,
   "source": [
    "tuple1 = (1, 2, 3)\r\n",
    "tuple2 = (4, 3, 5)\r\n",
    "(tuple1 + tuple2)"
   ],
   "outputs": [
    {
     "output_type": "execute_result",
     "data": {
      "text/plain": [
       "(1, 2, 3, 4, 3, 5)"
      ]
     },
     "metadata": {},
     "execution_count": 48
    }
   ],
   "metadata": {}
  },
  {
   "cell_type": "code",
   "execution_count": 51,
   "source": [
    "# ka=kas nesigavo\r\n",
    "list_tup = list(tuple1)\r\n",
    "print (list_tup)\r\n",
    "list_tup[2] =5\r\n",
    "print (list_tup)\r\n",
    "tuple1 = tuple(list_tup)\r\n",
    "print(tuple_1)"
   ],
   "outputs": [
    {
     "output_type": "stream",
     "name": "stdout",
     "text": [
      "[1, 2, 3]\n",
      "[1, 2, 5]\n",
      "(11, [222, 22], 44, 55)\n"
     ]
    }
   ],
   "metadata": {}
  },
  {
   "cell_type": "code",
   "execution_count": 56,
   "source": [
    "tuple_1 = (5, 106, 1, 4584)\r\n",
    "print (tuple1)\r\n"
   ],
   "outputs": [
    {
     "output_type": "stream",
     "name": "stdout",
     "text": [
      "(1, 2, 5)\n"
     ]
    },
    {
     "output_type": "execute_result",
     "data": {
      "text/plain": [
       "[1, 2, 5]"
      ]
     },
     "metadata": {},
     "execution_count": 56
    }
   ],
   "metadata": {}
  },
  {
   "cell_type": "code",
   "execution_count": 58,
   "source": [
    "tuple_ = (5, 106, 1, 4584, 1, 1, 5)\r\n",
    "tuple_1.count(1)"
   ],
   "outputs": [
    {
     "output_type": "execute_result",
     "data": {
      "text/plain": [
       "1"
      ]
     },
     "metadata": {},
     "execution_count": 58
    }
   ],
   "metadata": {}
  },
  {
   "cell_type": "code",
   "execution_count": 59,
   "source": [
    "max(tuple_1)\r\n",
    "tuple_1.index[]"
   ],
   "outputs": [
    {
     "output_type": "execute_result",
     "data": {
      "text/plain": [
       "4584"
      ]
     },
     "metadata": {},
     "execution_count": 59
    }
   ],
   "metadata": {}
  },
  {
   "cell_type": "code",
   "execution_count": 62,
   "source": [
    "# range\r\n",
    "\r\n",
    "list (range(0, 101, 3))"
   ],
   "outputs": [
    {
     "output_type": "execute_result",
     "data": {
      "text/plain": [
       "[0,\n",
       " 3,\n",
       " 6,\n",
       " 9,\n",
       " 12,\n",
       " 15,\n",
       " 18,\n",
       " 21,\n",
       " 24,\n",
       " 27,\n",
       " 30,\n",
       " 33,\n",
       " 36,\n",
       " 39,\n",
       " 42,\n",
       " 45,\n",
       " 48,\n",
       " 51,\n",
       " 54,\n",
       " 57,\n",
       " 60,\n",
       " 63,\n",
       " 66,\n",
       " 69,\n",
       " 72,\n",
       " 75,\n",
       " 78,\n",
       " 81,\n",
       " 84,\n",
       " 87,\n",
       " 90,\n",
       " 93,\n",
       " 96,\n",
       " 99]"
      ]
     },
     "metadata": {},
     "execution_count": 62
    }
   ],
   "metadata": {}
  },
  {
   "cell_type": "code",
   "execution_count": 63,
   "source": [
    "list(range(0, -35, -3))"
   ],
   "outputs": [
    {
     "output_type": "execute_result",
     "data": {
      "text/plain": [
       "[0, -3, -6, -9, -12, -15, -18, -21, -24, -27, -30, -33]"
      ]
     },
     "metadata": {},
     "execution_count": 63
    }
   ],
   "metadata": {}
  },
  {
   "cell_type": "code",
   "execution_count": 64,
   "source": [
    "# none deklaracija :kai kodo ra6ymo metu nezinai vertes\r\n",
    "niekas = None\r\n",
    "print(type(niekas) )"
   ],
   "outputs": [
    {
     "output_type": "stream",
     "name": "stdout",
     "text": [
      "<class 'NoneType'>\n"
     ]
    }
   ],
   "metadata": {}
  },
  {
   "cell_type": "code",
   "execution_count": 70,
   "source": [
    "for bet_koks_pavadinimas in range(10):\r\n",
    "     print('dbar yra skaicius')\r\n",
    "     print (bet_koks_pavadinimas)\r\n",
    "     for skaicius in range(2):\r\n",
    "        print ('ha')"
   ],
   "outputs": [
    {
     "output_type": "stream",
     "name": "stdout",
     "text": [
      "dbar yra skaicius\n",
      "0\n",
      "ha\n",
      "ha\n",
      "dbar yra skaicius\n",
      "1\n",
      "ha\n",
      "ha\n",
      "dbar yra skaicius\n",
      "2\n",
      "ha\n",
      "ha\n",
      "dbar yra skaicius\n",
      "3\n",
      "ha\n",
      "ha\n",
      "dbar yra skaicius\n",
      "4\n",
      "ha\n",
      "ha\n",
      "dbar yra skaicius\n",
      "5\n",
      "ha\n",
      "ha\n",
      "dbar yra skaicius\n",
      "6\n",
      "ha\n",
      "ha\n",
      "dbar yra skaicius\n",
      "7\n",
      "ha\n",
      "ha\n",
      "dbar yra skaicius\n",
      "8\n",
      "ha\n",
      "ha\n",
      "dbar yra skaicius\n",
      "9\n",
      "ha\n",
      "ha\n"
     ]
    }
   ],
   "metadata": {}
  },
  {
   "cell_type": "code",
   "execution_count": 75,
   "source": [
    "cities = ['Vilnius', 'Kaunas', 'Klaipeda']\r\n",
    "for city in cities:\r\n",
    "    print (f'Dabar yra miestas - [city]')"
   ],
   "outputs": [
    {
     "output_type": "stream",
     "name": "stdout",
     "text": [
      "Dabar yra miestas - [city]\n",
      "Dabar yra miestas - [city]\n",
      "Dabar yra miestas - [city]\n"
     ]
    }
   ],
   "metadata": {}
  },
  {
   "cell_type": "code",
   "execution_count": 78,
   "source": [
    "# if\r\n",
    "if 10 > 3:\r\n",
    "    print('tai yra tiesa')\r\n",
    "else:\r\n",
    "    print ('nera tiesa')"
   ],
   "outputs": [
    {
     "output_type": "stream",
     "name": "stdout",
     "text": [
      "tai yra tiesa\n"
     ]
    }
   ],
   "metadata": {}
  },
  {
   "cell_type": "code",
   "execution_count": 79,
   "source": [
    "txt = ''\r\n",
    "if txt:\r\n",
    "    print (txt)\r\n",
    "else:\r\n",
    "    print('tuscias tekstas')"
   ],
   "outputs": [
    {
     "output_type": "stream",
     "name": "stdout",
     "text": [
      "tuscias tekstas\n"
     ]
    }
   ],
   "metadata": {}
  },
  {
   "cell_type": "code",
   "execution_count": 81,
   "source": [
    "skaicius = 5\r\n",
    "if skaicius < 10:\r\n",
    "    print ('skaicius maziau nei 10')\r\n",
    "elif skaicius < 50:\r\n",
    "    print ('skaicius maziau nei 50')\r\n",
    "else:\r\n",
    "    print ('skaicius ne maziau nei 50')"
   ],
   "outputs": [
    {
     "output_type": "stream",
     "name": "stdout",
     "text": [
      "skaicius maziau nei 10\n"
     ]
    }
   ],
   "metadata": {}
  },
  {
   "cell_type": "code",
   "execution_count": 83,
   "source": [
    "name = 'Darius'\r\n",
    "number = 5\r\n",
    "if name == 'Darius' and number ==5:\r\n",
    "    print ('this is true')"
   ],
   "outputs": [
    {
     "output_type": "stream",
     "name": "stdout",
     "text": [
      "this is true\n"
     ]
    }
   ],
   "metadata": {}
  },
  {
   "cell_type": "code",
   "execution_count": null,
   "source": [
    "kombinacijos = []\r\n",
    "for value_1 in a:\r\n",
    "    for value_2 in b:\r\n",
    "        for value_3 in c:\r\n",
    "            kombinacijos.append( [value_1, value_2, value_3] )\r\n",
    "kombinacijos.sort(key=lanbda x: x[2], reverse=True)\r\n",
    "print (kombinacijos)\r\n"
   ],
   "outputs": [],
   "metadata": {}
  },
  {
   "cell_type": "code",
   "execution_count": null,
   "source": [
    "for number in range(1,101)\r\n",
    "    result = ''\r\n",
    "    if number %2:\r\n",
    "        result += 'Fizz'\r\n",
    "        if number % 3 == 0:  # // dalybos liekana\r\n",
    "            rezult += 'buzz'\r\n",
    "            print (f'{number} - {result}')\r\n"
   ],
   "outputs": [],
   "metadata": {}
  }
 ],
 "metadata": {
  "orig_nbformat": 4,
  "language_info": {
   "name": "python",
   "version": "3.9.2",
   "mimetype": "text/x-python",
   "codemirror_mode": {
    "name": "ipython",
    "version": 3
   },
   "pygments_lexer": "ipython3",
   "nbconvert_exporter": "python",
   "file_extension": ".py"
  },
  "kernelspec": {
   "name": "python3",
   "display_name": "Python 3.9.2 64-bit"
  },
  "interpreter": {
   "hash": "28a8d0d51acbb5ec547b80c50a76f865b7f5e8a6e570f781e88891989fcd299d"
  }
 },
 "nbformat": 4,
 "nbformat_minor": 2
}