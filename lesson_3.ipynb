{
 "cells": [
  {
   "cell_type": "code",
   "execution_count": 3,
   "source": [
    "#dictionary\r\n",
    "house  = {\r\n",
    "    'adresas' : 'Zalioji g. ',\r\n",
    "    'plotas' : 50,\r\n",
    "    'kabariu_ skaicius' : 2,\r\n",
    "    'skalbykle' : False\r\n",
    "}\r\n"
   ],
   "outputs": [],
   "metadata": {}
  },
  {
   "cell_type": "code",
   "execution_count": 4,
   "source": [
    "print(house['plotas'])\r\n"
   ],
   "outputs": [
    {
     "output_type": "stream",
     "name": "stdout",
     "text": [
      "50\n"
     ]
    }
   ],
   "metadata": {}
  },
  {
   "cell_type": "code",
   "execution_count": 6,
   "source": [
    "house['artimiausia_mokykla'] = 500\r\n",
    "print(house)"
   ],
   "outputs": [
    {
     "output_type": "stream",
     "name": "stdout",
     "text": [
      "{'adresas': 'Zalioji g. ', 'plotas': 50, 'kabariu_ skaicius': 2, 'skalbykle': False, 'artimiausia_mokykla': 500}\n"
     ]
    }
   ],
   "metadata": {}
  },
  {
   "cell_type": "code",
   "execution_count": 7,
   "source": [
    "house.pop('artimiausia_mokykla')\r\n",
    "print(house)"
   ],
   "outputs": [
    {
     "output_type": "stream",
     "name": "stdout",
     "text": [
      "{'adresas': 'Zalioji g. ', 'plotas': 50, 'kabariu_ skaicius': 2, 'skalbykle': False}\n"
     ]
    }
   ],
   "metadata": {}
  },
  {
   "cell_type": "code",
   "execution_count": 9,
   "source": [
    "house.update( {'plotas' : 50, 'skalbykle' :True})\r\n",
    "print(house)"
   ],
   "outputs": [
    {
     "output_type": "stream",
     "name": "stdout",
     "text": [
      "{'adresas': 'Zalioji g. ', 'plotas': 50, 'kabariu_ skaicius': 2, 'skalbykle': True}\n"
     ]
    }
   ],
   "metadata": {}
  },
  {
   "cell_type": "code",
   "execution_count": 12,
   "source": [
    "print(house.get('plotas'))\r\n",
    "print(house.get('virtuve')) # su .get klaidos neeta jei net ir n4ra tokios reik6m4s"
   ],
   "outputs": [
    {
     "output_type": "stream",
     "name": "stdout",
     "text": [
      "50\n",
      "None\n"
     ]
    }
   ],
   "metadata": {}
  },
  {
   "cell_type": "code",
   "execution_count": 15,
   "source": [
    "# dictionary are mutable, make sure to do deepcopy() if assignin dictionary_1 = dictionary_2\r\n",
    "house.keys()\r\n",
    "house.values()\r\n",
    "house.items()\r\n",
    "# functon are ususally used in for loops"
   ],
   "outputs": [
    {
     "output_type": "execute_result",
     "data": {
      "text/plain": [
       "dict_items([('adresas', 'Zalioji g. '), ('plotas', 50), ('kabariu_ skaicius', 2), ('skalbykle', True)])"
      ]
     },
     "metadata": {},
     "execution_count": 15
    }
   ],
   "metadata": {}
  },
  {
   "cell_type": "code",
   "execution_count": 18,
   "source": [
    "dict_1 = {\r\n",
    "    False : 'netiesa',\r\n",
    "    None : 'niekas',\r\n",
    "    3.14 : 'pi'\r\n",
    "}\r\n",
    "print(dict_1[None])\r\n",
    "print(dict_1[False])"
   ],
   "outputs": [
    {
     "output_type": "stream",
     "name": "stdout",
     "text": [
      "niekas\n",
      "netiesa\n"
     ]
    }
   ],
   "metadata": {}
  },
  {
   "cell_type": "code",
   "execution_count": null,
   "source": [
    "car = {\r\n",
    "    \"brand\":\"Ford\",\r\n",
    "    \r\n",
    "}"
   ],
   "outputs": [],
   "metadata": {}
  },
  {
   "cell_type": "code",
   "execution_count": null,
   "source": [
    "print(len(car)\r\n",
    "car['year'] = 2020"
   ],
   "outputs": [],
   "metadata": {}
  },
  {
   "cell_type": "code",
   "execution_count": null,
   "source": [
    "car.update({'color' :'red', 'used' : True})\r\n",
    "print(car)"
   ],
   "outputs": [],
   "metadata": {}
  },
  {
   "cell_type": "code",
   "execution_count": null,
   "source": [
    "car.pop('brand')\r\n",
    "car['year'] = None\r\n",
    "print(car)"
   ],
   "outputs": [],
   "metadata": {}
  },
  {
   "cell_type": "code",
   "execution_count": 24,
   "source": [
    "# set\r\n",
    "set_1 = {1, 2, 3, 3, 3,'labas', 3, 3, 3, '1', '3'}\r\n",
    "print(set_1)\r\n",
    "len(set_1)\r\n",
    "\r\n"
   ],
   "outputs": [
    {
     "output_type": "stream",
     "name": "stdout",
     "text": [
      "{'labas', 2, 3, 1, '3', '1'}\n"
     ]
    },
    {
     "output_type": "execute_result",
     "data": {
      "text/plain": [
       "6"
      ]
     },
     "metadata": {},
     "execution_count": 24
    }
   ],
   "metadata": {}
  },
  {
   "cell_type": "code",
   "execution_count": 26,
   "source": [
    "set_1.add('New')\r\n",
    "set_1.remove('New') # visada bando salinti\r\n",
    "set_1.discard('New') # discard pa6alina tik tada, kai toks dalykas yra"
   ],
   "outputs": [],
   "metadata": {}
  },
  {
   "cell_type": "code",
   "execution_count": 27,
   "source": [
    "set_1.update([55, 111, 55, 666])\r\n",
    "print(set_1)"
   ],
   "outputs": [
    {
     "output_type": "stream",
     "name": "stdout",
     "text": [
      "{'labas', 2, 3, 1, 111, 666, 55, '3', '1'}\n"
     ]
    }
   ],
   "metadata": {}
  },
  {
   "cell_type": "code",
   "execution_count": 28,
   "source": [
    "list_1 = [1, 1, 1, 1, 18, 20, 2, 3, 4]\r\n"
   ],
   "outputs": [],
   "metadata": {}
  },
  {
   "cell_type": "code",
   "execution_count": 29,
   "source": [
    "set_1 = {1, 4, 5, 6,}\r\n",
    "set_2 = {1, 8, 5, 10}\r\n",
    "set_1.difference(set_2)"
   ],
   "outputs": [
    {
     "output_type": "execute_result",
     "data": {
      "text/plain": [
       "{4, 6}"
      ]
     },
     "metadata": {},
     "execution_count": 29
    }
   ],
   "metadata": {}
  },
  {
   "cell_type": "code",
   "execution_count": 30,
   "source": [
    "set_1.union(set_2)"
   ],
   "outputs": [
    {
     "output_type": "execute_result",
     "data": {
      "text/plain": [
       "{1, 4, 5, 6, 8, 10}"
      ]
     },
     "metadata": {},
     "execution_count": 30
    }
   ],
   "metadata": {}
  },
  {
   "cell_type": "code",
   "execution_count": 31,
   "source": [
    "set_1.intersection(set_2) # kas bendro"
   ],
   "outputs": [
    {
     "output_type": "execute_result",
     "data": {
      "text/plain": [
       "{1, 5}"
      ]
     },
     "metadata": {},
     "execution_count": 31
    }
   ],
   "metadata": {}
  },
  {
   "cell_type": "code",
   "execution_count": 35,
   "source": [
    "fruits = {\"apple\", \"banana\", \"cherry\"}\r\n"
   ],
   "outputs": [],
   "metadata": {}
  },
  {
   "cell_type": "code",
   "execution_count": 36,
   "source": [
    "fruits.add( ('nauja_reiksme', 5))\r\n",
    "print(fruits)"
   ],
   "outputs": [
    {
     "output_type": "stream",
     "name": "stdout",
     "text": [
      "{'banana', ('nauja_reiksme', 5), 'apple', 'cherry'}\n"
     ]
    }
   ],
   "metadata": {}
  },
  {
   "cell_type": "code",
   "execution_count": 38,
   "source": [
    "fruits = {'apple', 'banana', 'cherry'}\r\n",
    "fruits.remove('apple')\r\n",
    "fruits.add('watermelon')\r\n",
    "print(fruits)"
   ],
   "outputs": [
    {
     "output_type": "stream",
     "name": "stdout",
     "text": [
      "{'banana', 'watermelon', 'cherry'}\n"
     ]
    }
   ],
   "metadata": {}
  },
  {
   "cell_type": "code",
   "execution_count": 63,
   "source": [
    "fruits = list(fruits)\r\n",
    "fruits_list[0] = 'watermelon'\r\n",
    "fruits = set(fruits_list)\r\n",
    "print(fruits)\r\n"
   ],
   "outputs": [
    {
     "output_type": "error",
     "ename": "TypeError",
     "evalue": "'types.GenericAlias' object is not iterable",
     "traceback": [
      "\u001b[1;31m---------------------------------------------------------------------------\u001b[0m",
      "\u001b[1;31mTypeError\u001b[0m                                 Traceback (most recent call last)",
      "\u001b[1;32mC:\\Users\\MOKYTO~1\\AppData\\Local\\Temp/ipykernel_4724/900837179.py\u001b[0m in \u001b[0;36m<module>\u001b[1;34m\u001b[0m\n\u001b[1;32m----> 1\u001b[1;33m \u001b[0mfruits\u001b[0m \u001b[1;33m=\u001b[0m \u001b[0mlist\u001b[0m\u001b[1;33m(\u001b[0m\u001b[0mfruits\u001b[0m\u001b[1;33m)\u001b[0m\u001b[1;33m\u001b[0m\u001b[1;33m\u001b[0m\u001b[0m\n\u001b[0m\u001b[0;32m      2\u001b[0m \u001b[0mfruits_list\u001b[0m\u001b[1;33m[\u001b[0m\u001b[1;36m0\u001b[0m\u001b[1;33m]\u001b[0m \u001b[1;33m=\u001b[0m \u001b[1;34m'watermelon'\u001b[0m\u001b[1;33m\u001b[0m\u001b[1;33m\u001b[0m\u001b[0m\n\u001b[0;32m      3\u001b[0m \u001b[0mfruits\u001b[0m \u001b[1;33m=\u001b[0m \u001b[0mset\u001b[0m\u001b[1;33m(\u001b[0m\u001b[0mfruits_list\u001b[0m\u001b[1;33m)\u001b[0m\u001b[1;33m\u001b[0m\u001b[1;33m\u001b[0m\u001b[0m\n\u001b[0;32m      4\u001b[0m \u001b[0mprint\u001b[0m\u001b[1;33m(\u001b[0m\u001b[0mfruits\u001b[0m\u001b[1;33m)\u001b[0m\u001b[1;33m\u001b[0m\u001b[1;33m\u001b[0m\u001b[0m\n",
      "\u001b[1;31mTypeError\u001b[0m: 'types.GenericAlias' object is not iterable"
     ]
    }
   ],
   "metadata": {}
  },
  {
   "cell_type": "code",
   "execution_count": 44,
   "source": [
    "# for loops\r\n",
    "\r\n",
    "song_1 = '''Is this the real life?\r\n",
    "Is this just fantasy?\r\n",
    "Caught in a landside,\r\n",
    "No escape from reality\r\n",
    "Open your eyes,\r\n",
    "Look up to the skies and see,\r\n",
    "I'm just a poor boy, I need no sympathy,\r\n",
    "Because I'm easy come, easy go,\r\n",
    "Little high, little low,\r\n",
    "Any way the wind blows doesn't really matter to\r\n",
    "Me, to me\r\n",
    "Mamaaa,\r\n",
    "Just killed a man,\r\n",
    "Put a gun against his head, pulled my trigger,\r\n",
    "Now he's dead\r\n",
    "Mamaaa, life had just begun,\r\n",
    "But now I've gone and thrown it all away\r\n",
    "Mama, oooh,\r\n",
    "Didn't mean to make you cry,\r\n",
    "If I'm not back again this time tomorrow,\r\n",
    "Carry on, carry on as if nothing really matters\r\n",
    "Too late, my time has come,\r\n",
    "Sends shivers down my spine, body's aching all\r\n",
    "The time\r\n",
    "Goodbye, everybody, I've got to go,\r\n",
    "Gotta leave you all behind and face the truth\r\n",
    "Mama, oooh\r\n",
    "I don't want to die,\r\n",
    "I sometimes wish I'd never been born at all.\r\n",
    "I see a little silhouetto of a man,\r\n",
    "Scaramouch, Scaramouch, will you do the Fandango!\r\n",
    "Thunderbolts and lightning, very, very frightening me\r\n",
    "Galileo, Galileo\r\n",
    "Galileo, Galileo\r\n",
    "Galileo, Figaro - magnificoo\r\n",
    "I'm just a poor boy nobody loves me\r\n",
    "He's just a poor boy from a poor family,\r\n",
    "Spare him his life from this monstrosity\r\n",
    "Easy come, easy go, will you let me go\r\n",
    "Bismillah! No, we will not let you go\r\n",
    "(Let him go!) Bismillah! We will not let you go\r\n",
    "(Let him go!) Bismillah! We will not let you go\r\n",
    "(Let me go) Will not let you go\r\n",
    "(Let me go)(Never) Never let you go\r\n",
    "(Let me go) (Never) let you go (Let me go) Ah\r\n",
    "No, no, no, no, no, no, no\r\n",
    "Oh mama mia, mama mia, mama mia, let me go\r\n",
    "Beelzebub has a devil put aside for me, for me,\r\n",
    "For meee\r\n",
    "So you think you can stop me and spit in my eye\r\n",
    "So you think you can love me and leave me to die\r\n",
    "Oh, baby, can't do this to me, baby,\r\n",
    "Just gotta get out, just gotta get right outta here\r\n",
    "Nothing really matters, Anyone can see,\r\n",
    "Nothing really matters,\r\n",
    "Nothing really matters to me\r\n",
    "Any way the wind blows...'''\r\n",
    "print(song_1)\r\n"
   ],
   "outputs": [
    {
     "output_type": "stream",
     "name": "stdout",
     "text": [
      "Is this the real life?\n",
      "Is this just fantasy?\n",
      "Caught in a landside,\n",
      "No escape from reality\n",
      "Open your eyes,\n",
      "Look up to the skies and see,\n",
      "I'm just a poor boy, I need no sympathy,\n",
      "Because I'm easy come, easy go,\n",
      "Little high, little low,\n",
      "Any way the wind blows doesn't really matter to\n",
      "Me, to me\n",
      "Mamaaa,\n",
      "Just killed a man,\n",
      "Put a gun against his head, pulled my trigger,\n",
      "Now he's dead\n",
      "Mamaaa, life had just begun,\n",
      "But now I've gone and thrown it all away\n",
      "Mama, oooh,\n",
      "Didn't mean to make you cry,\n",
      "If I'm not back again this time tomorrow,\n",
      "Carry on, carry on as if nothing really matters\n",
      "Too late, my time has come,\n",
      "Sends shivers down my spine, body's aching all\n",
      "The time\n",
      "Goodbye, everybody, I've got to go,\n",
      "Gotta leave you all behind and face the truth\n",
      "Mama, oooh\n",
      "I don't want to die,\n",
      "I sometimes wish I'd never been born at all.\n",
      "I see a little silhouetto of a man,\n",
      "Scaramouch, Scaramouch, will you do the Fandango!\n",
      "Thunderbolts and lightning, very, very frightening me\n",
      "Galileo, Galileo\n",
      "Galileo, Galileo\n",
      "Galileo, Figaro - magnificoo\n",
      "I'm just a poor boy nobody loves me\n",
      "He's just a poor boy from a poor family,\n",
      "Spare him his life from this monstrosity\n",
      "Easy come, easy go, will you let me go\n",
      "Bismillah! No, we will not let you go\n",
      "(Let him go!) Bismillah! We will not let you go\n",
      "(Let him go!) Bismillah! We will not let you go\n",
      "(Let me go) Will not let you go\n",
      "(Let me go)(Never) Never let you go\n",
      "(Let me go) (Never) let you go (Let me go) Ah\n",
      "No, no, no, no, no, no, no\n",
      "Oh mama mia, mama mia, mama mia, let me go\n",
      "Beelzebub has a devil put aside for me, for me,\n",
      "For meee\n",
      "So you think you can stop me and spit in my eye\n",
      "So you think you can love me and leave me to die\n",
      "Oh, baby, can't do this to me, baby,\n",
      "Just gotta get out, just gotta get right outta here\n",
      "Nothing really matters, Anyone can see,\n",
      "Nothing really matters,\n",
      "Nothing really matters to me\n",
      "Any way the wind blows...\n"
     ]
    }
   ],
   "metadata": {}
  },
  {
   "cell_type": "code",
   "execution_count": 49,
   "source": [
    "word_list = song_1.replace('\\n', ' ').replace('?', ' ').replace(',' , ' ').replace('(' , ' ').replace('!' , ' ').replace('.' , ' ').lower().strip().split(' ')\r\n",
    "print(len(word_list))"
   ],
   "outputs": [
    {
     "output_type": "stream",
     "name": "stdout",
     "text": [
      "445\n"
     ]
    }
   ],
   "metadata": {}
  },
  {
   "cell_type": "code",
   "execution_count": 52,
   "source": [
    "word_set = set(word_list)\r\n",
    "print(len(word_set))\r\n",
    "print (word_set)"
   ],
   "outputs": [
    {
     "output_type": "stream",
     "name": "stdout",
     "text": [
      "163\n",
      "{'', 'spare', 'open', 'as', 'poor', 'go', 'fantasy', 'will', 'aching', 'pulled', 'this', 'monstrosity', 'look', \"didn't\", 'high', 'die', 'face', 'real', 'if', 'time', 'nothing', 'dead', 'begun', ')', 'head', 'really', 'on', 'devil', 'eye', 'nobody', 'the', 'wind', 'frightening', 'oh', 'mean', 'not', 'can', 'anyone', 'boy', 'thrown', 'reality', 'do', 'mia', 'me', 'carry', 'behind', 'late', 'low', 'to', 'never)', 'way', 'blows', 'away', 'him', 'matter', 'my', 'figaro', 'baby', 'think', 'come', 'spit', 'trigger', 'again', 'your', 'from', 'easy', 'oooh', 'fandango', 'too', 'right', 'just', 'matters', 'shivers', 'leave', 'gotta', 'of', \"can't\", 'been', 'eyes', 'against', 'his', 'life', 'back', 'see', 'we', 'born', 'lightning', 'had', 'spine', 'magnificoo', 'out', 'i', 'so', 'is', \"i'd\", 'gone', 'love', 'never', 'outta', 'thunderbolts', 'in', 'ah', 'mamaaa', 'sends', 'down', 'stop', 'put', 'aside', 'want', 'a', 'truth', 'let', \"he's\", 'galileo', 'family', 'cry', 'bismillah', 'and', 'landside', \"body's\", 'man', 'silhouetto', 'got', 'for', 'no', 'it', 'everybody', 'at', 'escape', 'loves', 'here', 'but', 'scaramouch', 'get', \"i've\", \"i'm\", \"doesn't\", 'killed', \"don't\", 'sometimes', 'any', 'little', 'all', 'up', 'goodbye', 'need', 'sympathy', 'skies', 'meee', 'now', 'mama', 'gun', 'because', 'go)', 'has', 'very', 'beelzebub', 'tomorrow', 'make', 'caught', 'wish', '-', 'you'}\n"
     ]
    }
   ],
   "metadata": {}
  },
  {
   "cell_type": "code",
   "execution_count": 61,
   "source": [
    "repetitive_count = {}\r\n",
    "for unique_word in word_set:\r\n",
    "    repetitive_count.[unique_word] = word_list.count(unique_word)\r\n",
    "    print(repetitive_count)\r\n",
    "    for key in repetitive_count:\r\n",
    "        print (f'{key}:{repetitive_count[key]})\r\n",
    "\r\n"
   ],
   "outputs": [
    {
     "output_type": "error",
     "ename": "SyntaxError",
     "evalue": "invalid syntax (Temp/ipykernel_4724/1343795410.py, line 3)",
     "traceback": [
      "\u001b[1;36m  File \u001b[1;32m\"C:\\Users\\MOKYTO~1\\AppData\\Local\\Temp/ipykernel_4724/1343795410.py\"\u001b[1;36m, line \u001b[1;32m3\u001b[0m\n\u001b[1;33m    repetitive_count.[unique_word] = word_list.count(unique_word)\u001b[0m\n\u001b[1;37m                     ^\u001b[0m\n\u001b[1;31mSyntaxError\u001b[0m\u001b[1;31m:\u001b[0m invalid syntax\n"
     ]
    }
   ],
   "metadata": {}
  },
  {
   "cell_type": "code",
   "execution_count": 65,
   "source": [
    "input_list = ['savas', 'as', 'tu', 'bob', 'house', 'pele', 'kompiuteris', 'narsykle', 'programming', 'python']\r\n"
   ],
   "outputs": [],
   "metadata": {}
  },
  {
   "cell_type": "code",
   "execution_count": 72,
   "source": [
    "long_words = 0\r\n",
    "longest_word = ''\r\n",
    "shortest_word = 'a' * 1000\r\n",
    "for word in input_list:\r\n",
    "    if len(word) >= 10:\r\n",
    "        long_words += 1\r\n",
    "    if len(word) > len(longest_word)\r\n",
    "        longest_word = word\r\n",
    "    if len(word) > len(shortest_word)\r\n",
    "       shortest_word\r\n",
    "\r\n"
   ],
   "outputs": [
    {
     "output_type": "error",
     "ename": "SyntaxError",
     "evalue": "invalid syntax (Temp/ipykernel_4724/1168899976.py, line 7)",
     "traceback": [
      "\u001b[1;36m  File \u001b[1;32m\"C:\\Users\\MOKYTO~1\\AppData\\Local\\Temp/ipykernel_4724/1168899976.py\"\u001b[1;36m, line \u001b[1;32m7\u001b[0m\n\u001b[1;33m    if len(word) > len(longest_word)\u001b[0m\n\u001b[1;37m                                    ^\u001b[0m\n\u001b[1;31mSyntaxError\u001b[0m\u001b[1;31m:\u001b[0m invalid syntax\n"
     ]
    }
   ],
   "metadata": {}
  },
  {
   "cell_type": "code",
   "execution_count": null,
   "source": [
    "if word == word[;;-1]: # polindromai\r\n",
    "\r\n"
   ],
   "outputs": [],
   "metadata": {}
  },
  {
   "cell_type": "code",
   "execution_count": 73,
   "source": [
    "my_list = [3, 6, -2, -5, 7, 3]"
   ],
   "outputs": [],
   "metadata": {}
  },
  {
   "cell_type": "code",
   "execution_count": 75,
   "source": [
    "sandauga = 0\r\n",
    "for idx in range(len(my_list) -1):\r\n",
    "    if sandauga < my_list[idx] *my_list[idx +1]:\r\n",
    "        sandauga = my_list[idx]*my_list[idx +1]\r\n",
    "print (sandauga)\r\n"
   ],
   "outputs": [
    {
     "output_type": "stream",
     "name": "stdout",
     "text": [
      "21\n"
     ]
    }
   ],
   "metadata": {}
  },
  {
   "cell_type": "code",
   "execution_count": null,
   "source": [
    "sandauga = 0\r\n",
    "for neigbour_1, neighbor_2 in zip (my_list[;-1], my_list[1:]):\r\n",
    "    "
   ],
   "outputs": [],
   "metadata": {}
  }
 ],
 "metadata": {
  "orig_nbformat": 4,
  "language_info": {
   "name": "python",
   "version": "3.9.2",
   "mimetype": "text/x-python",
   "codemirror_mode": {
    "name": "ipython",
    "version": 3
   },
   "pygments_lexer": "ipython3",
   "nbconvert_exporter": "python",
   "file_extension": ".py"
  },
  "kernelspec": {
   "name": "python3",
   "display_name": "Python 3.9.2 64-bit"
  },
  "interpreter": {
   "hash": "28a8d0d51acbb5ec547b80c50a76f865b7f5e8a6e570f781e88891989fcd299d"
  }
 },
 "nbformat": 4,
 "nbformat_minor": 2
}